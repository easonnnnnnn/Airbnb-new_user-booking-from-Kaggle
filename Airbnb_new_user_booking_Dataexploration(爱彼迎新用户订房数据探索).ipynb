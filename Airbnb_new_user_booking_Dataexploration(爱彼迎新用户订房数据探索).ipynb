{
 "cells": [
  {
   "cell_type": "markdown",
   "metadata": {},
   "source": [
    "### <center>引入使用的包<center>"
   ]
  },
  {
   "cell_type": "code",
   "execution_count": 131,
   "metadata": {
    "scrolled": true
   },
   "outputs": [],
   "source": [
    "import numpy as np\n",
    "import pandas as pd\n",
    "import matplotlib.pyplot as plt\n",
    "import sklearn as sk\n",
    "%matplotlib inline\n",
    "import datetime\n",
    "import os\n",
    "import seaborn as sns"
   ]
  },
  {
   "cell_type": "markdown",
   "metadata": {},
   "source": [
    "### <center>读取文件<center>"
   ]
  },
  {
   "cell_type": "code",
   "execution_count": 132,
   "metadata": {
    "scrolled": true
   },
   "outputs": [],
   "source": [
    "train = pd.read_csv(\"train_users_2.csv\")\n",
    "test = pd.read_csv(\"test_users.csv\")"
   ]
  },
  {
   "cell_type": "markdown",
   "metadata": {},
   "source": [
    "### <center>观察数据<center>"
   ]
  },
  {
   "cell_type": "markdown",
   "metadata": {},
   "source": [
    "#### 1.数据含义"
   ]
  },
  {
   "cell_type": "code",
   "execution_count": 133,
   "metadata": {
    "scrolled": true
   },
   "outputs": [
    {
     "data": {
      "text/html": [
       "<div>\n",
       "<style scoped>\n",
       "    .dataframe tbody tr th:only-of-type {\n",
       "        vertical-align: middle;\n",
       "    }\n",
       "\n",
       "    .dataframe tbody tr th {\n",
       "        vertical-align: top;\n",
       "    }\n",
       "\n",
       "    .dataframe thead th {\n",
       "        text-align: right;\n",
       "    }\n",
       "</style>\n",
       "<table border=\"1\" class=\"dataframe\">\n",
       "  <thead>\n",
       "    <tr style=\"text-align: right;\">\n",
       "      <th></th>\n",
       "      <th>id</th>\n",
       "      <th>date_account_created</th>\n",
       "      <th>timestamp_first_active</th>\n",
       "      <th>date_first_booking</th>\n",
       "      <th>gender</th>\n",
       "      <th>age</th>\n",
       "      <th>signup_method</th>\n",
       "      <th>signup_flow</th>\n",
       "      <th>language</th>\n",
       "      <th>affiliate_channel</th>\n",
       "      <th>affiliate_provider</th>\n",
       "      <th>first_affiliate_tracked</th>\n",
       "      <th>signup_app</th>\n",
       "      <th>first_device_type</th>\n",
       "      <th>first_browser</th>\n",
       "      <th>country_destination</th>\n",
       "    </tr>\n",
       "  </thead>\n",
       "  <tbody>\n",
       "    <tr>\n",
       "      <th>0</th>\n",
       "      <td>gxn3p5htnn</td>\n",
       "      <td>2010-06-28</td>\n",
       "      <td>20090319043255</td>\n",
       "      <td>NaN</td>\n",
       "      <td>-unknown-</td>\n",
       "      <td>NaN</td>\n",
       "      <td>facebook</td>\n",
       "      <td>0</td>\n",
       "      <td>en</td>\n",
       "      <td>direct</td>\n",
       "      <td>direct</td>\n",
       "      <td>untracked</td>\n",
       "      <td>Web</td>\n",
       "      <td>Mac Desktop</td>\n",
       "      <td>Chrome</td>\n",
       "      <td>NDF</td>\n",
       "    </tr>\n",
       "    <tr>\n",
       "      <th>1</th>\n",
       "      <td>820tgsjxq7</td>\n",
       "      <td>2011-05-25</td>\n",
       "      <td>20090523174809</td>\n",
       "      <td>NaN</td>\n",
       "      <td>MALE</td>\n",
       "      <td>38.0</td>\n",
       "      <td>facebook</td>\n",
       "      <td>0</td>\n",
       "      <td>en</td>\n",
       "      <td>seo</td>\n",
       "      <td>google</td>\n",
       "      <td>untracked</td>\n",
       "      <td>Web</td>\n",
       "      <td>Mac Desktop</td>\n",
       "      <td>Chrome</td>\n",
       "      <td>NDF</td>\n",
       "    </tr>\n",
       "    <tr>\n",
       "      <th>2</th>\n",
       "      <td>4ft3gnwmtx</td>\n",
       "      <td>2010-09-28</td>\n",
       "      <td>20090609231247</td>\n",
       "      <td>2010-08-02</td>\n",
       "      <td>FEMALE</td>\n",
       "      <td>56.0</td>\n",
       "      <td>basic</td>\n",
       "      <td>3</td>\n",
       "      <td>en</td>\n",
       "      <td>direct</td>\n",
       "      <td>direct</td>\n",
       "      <td>untracked</td>\n",
       "      <td>Web</td>\n",
       "      <td>Windows Desktop</td>\n",
       "      <td>IE</td>\n",
       "      <td>US</td>\n",
       "    </tr>\n",
       "    <tr>\n",
       "      <th>3</th>\n",
       "      <td>bjjt8pjhuk</td>\n",
       "      <td>2011-12-05</td>\n",
       "      <td>20091031060129</td>\n",
       "      <td>2012-09-08</td>\n",
       "      <td>FEMALE</td>\n",
       "      <td>42.0</td>\n",
       "      <td>facebook</td>\n",
       "      <td>0</td>\n",
       "      <td>en</td>\n",
       "      <td>direct</td>\n",
       "      <td>direct</td>\n",
       "      <td>untracked</td>\n",
       "      <td>Web</td>\n",
       "      <td>Mac Desktop</td>\n",
       "      <td>Firefox</td>\n",
       "      <td>other</td>\n",
       "    </tr>\n",
       "    <tr>\n",
       "      <th>4</th>\n",
       "      <td>87mebub9p4</td>\n",
       "      <td>2010-09-14</td>\n",
       "      <td>20091208061105</td>\n",
       "      <td>2010-02-18</td>\n",
       "      <td>-unknown-</td>\n",
       "      <td>41.0</td>\n",
       "      <td>basic</td>\n",
       "      <td>0</td>\n",
       "      <td>en</td>\n",
       "      <td>direct</td>\n",
       "      <td>direct</td>\n",
       "      <td>untracked</td>\n",
       "      <td>Web</td>\n",
       "      <td>Mac Desktop</td>\n",
       "      <td>Chrome</td>\n",
       "      <td>US</td>\n",
       "    </tr>\n",
       "  </tbody>\n",
       "</table>\n",
       "</div>"
      ],
      "text/plain": [
       "           id date_account_created  timestamp_first_active date_first_booking  \\\n",
       "0  gxn3p5htnn           2010-06-28          20090319043255                NaN   \n",
       "1  820tgsjxq7           2011-05-25          20090523174809                NaN   \n",
       "2  4ft3gnwmtx           2010-09-28          20090609231247         2010-08-02   \n",
       "3  bjjt8pjhuk           2011-12-05          20091031060129         2012-09-08   \n",
       "4  87mebub9p4           2010-09-14          20091208061105         2010-02-18   \n",
       "\n",
       "      gender   age signup_method  signup_flow language affiliate_channel  \\\n",
       "0  -unknown-   NaN      facebook            0       en            direct   \n",
       "1       MALE  38.0      facebook            0       en               seo   \n",
       "2     FEMALE  56.0         basic            3       en            direct   \n",
       "3     FEMALE  42.0      facebook            0       en            direct   \n",
       "4  -unknown-  41.0         basic            0       en            direct   \n",
       "\n",
       "  affiliate_provider first_affiliate_tracked signup_app first_device_type  \\\n",
       "0             direct               untracked        Web       Mac Desktop   \n",
       "1             google               untracked        Web       Mac Desktop   \n",
       "2             direct               untracked        Web   Windows Desktop   \n",
       "3             direct               untracked        Web       Mac Desktop   \n",
       "4             direct               untracked        Web       Mac Desktop   \n",
       "\n",
       "  first_browser country_destination  \n",
       "0        Chrome                 NDF  \n",
       "1        Chrome                 NDF  \n",
       "2            IE                  US  \n",
       "3       Firefox               other  \n",
       "4        Chrome                  US  "
      ]
     },
     "execution_count": 133,
     "metadata": {},
     "output_type": "execute_result"
    }
   ],
   "source": [
    "train.head(5)"
   ]
  },
  {
   "cell_type": "code",
   "execution_count": 134,
   "metadata": {
    "scrolled": true
   },
   "outputs": [
    {
     "data": {
      "text/html": [
       "<div>\n",
       "<style scoped>\n",
       "    .dataframe tbody tr th:only-of-type {\n",
       "        vertical-align: middle;\n",
       "    }\n",
       "\n",
       "    .dataframe tbody tr th {\n",
       "        vertical-align: top;\n",
       "    }\n",
       "\n",
       "    .dataframe thead th {\n",
       "        text-align: right;\n",
       "    }\n",
       "</style>\n",
       "<table border=\"1\" class=\"dataframe\">\n",
       "  <thead>\n",
       "    <tr style=\"text-align: right;\">\n",
       "      <th></th>\n",
       "      <th>id</th>\n",
       "      <th>date_account_created</th>\n",
       "      <th>timestamp_first_active</th>\n",
       "      <th>date_first_booking</th>\n",
       "      <th>gender</th>\n",
       "      <th>age</th>\n",
       "      <th>signup_method</th>\n",
       "      <th>signup_flow</th>\n",
       "      <th>language</th>\n",
       "      <th>affiliate_channel</th>\n",
       "      <th>affiliate_provider</th>\n",
       "      <th>first_affiliate_tracked</th>\n",
       "      <th>signup_app</th>\n",
       "      <th>first_device_type</th>\n",
       "      <th>first_browser</th>\n",
       "    </tr>\n",
       "  </thead>\n",
       "  <tbody>\n",
       "    <tr>\n",
       "      <th>0</th>\n",
       "      <td>5uwns89zht</td>\n",
       "      <td>2014-07-01</td>\n",
       "      <td>20140701000006</td>\n",
       "      <td>NaN</td>\n",
       "      <td>FEMALE</td>\n",
       "      <td>35.0</td>\n",
       "      <td>facebook</td>\n",
       "      <td>0</td>\n",
       "      <td>en</td>\n",
       "      <td>direct</td>\n",
       "      <td>direct</td>\n",
       "      <td>untracked</td>\n",
       "      <td>Moweb</td>\n",
       "      <td>iPhone</td>\n",
       "      <td>Mobile Safari</td>\n",
       "    </tr>\n",
       "    <tr>\n",
       "      <th>1</th>\n",
       "      <td>jtl0dijy2j</td>\n",
       "      <td>2014-07-01</td>\n",
       "      <td>20140701000051</td>\n",
       "      <td>NaN</td>\n",
       "      <td>-unknown-</td>\n",
       "      <td>NaN</td>\n",
       "      <td>basic</td>\n",
       "      <td>0</td>\n",
       "      <td>en</td>\n",
       "      <td>direct</td>\n",
       "      <td>direct</td>\n",
       "      <td>untracked</td>\n",
       "      <td>Moweb</td>\n",
       "      <td>iPhone</td>\n",
       "      <td>Mobile Safari</td>\n",
       "    </tr>\n",
       "    <tr>\n",
       "      <th>2</th>\n",
       "      <td>xx0ulgorjt</td>\n",
       "      <td>2014-07-01</td>\n",
       "      <td>20140701000148</td>\n",
       "      <td>NaN</td>\n",
       "      <td>-unknown-</td>\n",
       "      <td>NaN</td>\n",
       "      <td>basic</td>\n",
       "      <td>0</td>\n",
       "      <td>en</td>\n",
       "      <td>direct</td>\n",
       "      <td>direct</td>\n",
       "      <td>linked</td>\n",
       "      <td>Web</td>\n",
       "      <td>Windows Desktop</td>\n",
       "      <td>Chrome</td>\n",
       "    </tr>\n",
       "    <tr>\n",
       "      <th>3</th>\n",
       "      <td>6c6puo6ix0</td>\n",
       "      <td>2014-07-01</td>\n",
       "      <td>20140701000215</td>\n",
       "      <td>NaN</td>\n",
       "      <td>-unknown-</td>\n",
       "      <td>NaN</td>\n",
       "      <td>basic</td>\n",
       "      <td>0</td>\n",
       "      <td>en</td>\n",
       "      <td>direct</td>\n",
       "      <td>direct</td>\n",
       "      <td>linked</td>\n",
       "      <td>Web</td>\n",
       "      <td>Windows Desktop</td>\n",
       "      <td>IE</td>\n",
       "    </tr>\n",
       "    <tr>\n",
       "      <th>4</th>\n",
       "      <td>czqhjk3yfe</td>\n",
       "      <td>2014-07-01</td>\n",
       "      <td>20140701000305</td>\n",
       "      <td>NaN</td>\n",
       "      <td>-unknown-</td>\n",
       "      <td>NaN</td>\n",
       "      <td>basic</td>\n",
       "      <td>0</td>\n",
       "      <td>en</td>\n",
       "      <td>direct</td>\n",
       "      <td>direct</td>\n",
       "      <td>untracked</td>\n",
       "      <td>Web</td>\n",
       "      <td>Mac Desktop</td>\n",
       "      <td>Safari</td>\n",
       "    </tr>\n",
       "  </tbody>\n",
       "</table>\n",
       "</div>"
      ],
      "text/plain": [
       "           id date_account_created  timestamp_first_active  \\\n",
       "0  5uwns89zht           2014-07-01          20140701000006   \n",
       "1  jtl0dijy2j           2014-07-01          20140701000051   \n",
       "2  xx0ulgorjt           2014-07-01          20140701000148   \n",
       "3  6c6puo6ix0           2014-07-01          20140701000215   \n",
       "4  czqhjk3yfe           2014-07-01          20140701000305   \n",
       "\n",
       "   date_first_booking     gender   age signup_method  signup_flow language  \\\n",
       "0                 NaN     FEMALE  35.0      facebook            0       en   \n",
       "1                 NaN  -unknown-   NaN         basic            0       en   \n",
       "2                 NaN  -unknown-   NaN         basic            0       en   \n",
       "3                 NaN  -unknown-   NaN         basic            0       en   \n",
       "4                 NaN  -unknown-   NaN         basic            0       en   \n",
       "\n",
       "  affiliate_channel affiliate_provider first_affiliate_tracked signup_app  \\\n",
       "0            direct             direct               untracked      Moweb   \n",
       "1            direct             direct               untracked      Moweb   \n",
       "2            direct             direct                  linked        Web   \n",
       "3            direct             direct                  linked        Web   \n",
       "4            direct             direct               untracked        Web   \n",
       "\n",
       "  first_device_type  first_browser  \n",
       "0            iPhone  Mobile Safari  \n",
       "1            iPhone  Mobile Safari  \n",
       "2   Windows Desktop         Chrome  \n",
       "3   Windows Desktop             IE  \n",
       "4       Mac Desktop         Safari  "
      ]
     },
     "execution_count": 134,
     "metadata": {},
     "output_type": "execute_result"
    }
   ],
   "source": [
    "test.head(5)"
   ]
  },
  {
   "cell_type": "markdown",
   "metadata": {},
   "source": [
    "<center>从train和test文件中观察到数据train有16个feature,test有15个feature,  \n",
    "<center>其中是因为test文件中少了country_destination（订房国家）这一feature，也是我们需要去预测的。  \n",
    "<center>前面15个feature的含义分别是：\n",
    "\n",
    "|feature|含义\n",
    "--|:--:|\n",
    "|id|用户的id\n",
    "|date_account_created|账号生成时间\n",
    "|timestamp_first_active|账号激活时间\n",
    "|data_first_booking|第一次订房时间\n",
    "|gender|性别\n",
    "|age|年龄\n",
    "|signup_method|注册方式\n",
    "|language|使用的语言\n",
    "|affiliate_channel|付费市场渠道\n",
    "|affiliate_provider|付费市场渠道名称\n",
    "|first_affiliate_tracked|注册前第一个接触的市场渠道\n",
    "|signup_app|注册的app\n",
    "|first_device_type|设备类型\n",
    "|first_brower|浏览器类型"
   ]
  },
  {
   "cell_type": "markdown",
   "metadata": {},
   "source": [
    "#### 2.观察一下数据量的大小类型和缺失值情况"
   ]
  },
  {
   "cell_type": "code",
   "execution_count": 135,
   "metadata": {
    "scrolled": true
   },
   "outputs": [
    {
     "name": "stdout",
     "output_type": "stream",
     "text": [
      "(213451, 16)\n",
      "(62096, 15)\n"
     ]
    }
   ],
   "source": [
    "print(train.shape)\n",
    "print(test.shape)"
   ]
  },
  {
   "cell_type": "code",
   "execution_count": 136,
   "metadata": {
    "scrolled": false
   },
   "outputs": [
    {
     "name": "stdout",
     "output_type": "stream",
     "text": [
      "<class 'pandas.core.frame.DataFrame'>\n",
      "RangeIndex: 213451 entries, 0 to 213450\n",
      "Data columns (total 16 columns):\n",
      "id                         213451 non-null object\n",
      "date_account_created       213451 non-null object\n",
      "timestamp_first_active     213451 non-null int64\n",
      "date_first_booking         88908 non-null object\n",
      "gender                     213451 non-null object\n",
      "age                        125461 non-null float64\n",
      "signup_method              213451 non-null object\n",
      "signup_flow                213451 non-null int64\n",
      "language                   213451 non-null object\n",
      "affiliate_channel          213451 non-null object\n",
      "affiliate_provider         213451 non-null object\n",
      "first_affiliate_tracked    207386 non-null object\n",
      "signup_app                 213451 non-null object\n",
      "first_device_type          213451 non-null object\n",
      "first_browser              213451 non-null object\n",
      "country_destination        213451 non-null object\n",
      "dtypes: float64(1), int64(2), object(13)\n",
      "memory usage: 26.1+ MB\n",
      "None\n",
      "-----------------------------------------\n",
      "id                              0\n",
      "date_account_created            0\n",
      "timestamp_first_active          0\n",
      "date_first_booking         124543\n",
      "gender                          0\n",
      "age                         87990\n",
      "signup_method                   0\n",
      "signup_flow                     0\n",
      "language                        0\n",
      "affiliate_channel               0\n",
      "affiliate_provider              0\n",
      "first_affiliate_tracked      6065\n",
      "signup_app                      0\n",
      "first_device_type               0\n",
      "first_browser                   0\n",
      "country_destination             0\n",
      "dtype: int64\n"
     ]
    }
   ],
   "source": [
    "print(train.info())\n",
    "print('-----------------------------------------')\n",
    "print(train.isnull().sum(axis=0))"
   ]
  },
  {
   "cell_type": "code",
   "execution_count": 137,
   "metadata": {
    "scrolled": false
   },
   "outputs": [
    {
     "name": "stdout",
     "output_type": "stream",
     "text": [
      "<class 'pandas.core.frame.DataFrame'>\n",
      "RangeIndex: 62096 entries, 0 to 62095\n",
      "Data columns (total 15 columns):\n",
      "id                         62096 non-null object\n",
      "date_account_created       62096 non-null object\n",
      "timestamp_first_active     62096 non-null int64\n",
      "date_first_booking         0 non-null float64\n",
      "gender                     62096 non-null object\n",
      "age                        33220 non-null float64\n",
      "signup_method              62096 non-null object\n",
      "signup_flow                62096 non-null int64\n",
      "language                   62096 non-null object\n",
      "affiliate_channel          62096 non-null object\n",
      "affiliate_provider         62096 non-null object\n",
      "first_affiliate_tracked    62076 non-null object\n",
      "signup_app                 62096 non-null object\n",
      "first_device_type          62096 non-null object\n",
      "first_browser              62096 non-null object\n",
      "dtypes: float64(2), int64(2), object(11)\n",
      "memory usage: 7.1+ MB\n",
      "None\n",
      "-----------------------------------------\n",
      "id                             0\n",
      "date_account_created           0\n",
      "timestamp_first_active         0\n",
      "date_first_booking         62096\n",
      "gender                         0\n",
      "age                        28876\n",
      "signup_method                  0\n",
      "signup_flow                    0\n",
      "language                       0\n",
      "affiliate_channel              0\n",
      "affiliate_provider             0\n",
      "first_affiliate_tracked       20\n",
      "signup_app                     0\n",
      "first_device_type              0\n",
      "first_browser                  0\n",
      "dtype: int64\n"
     ]
    }
   ],
   "source": [
    "print(test.info())\n",
    "print('-----------------------------------------')\n",
    "print(test.isnull().sum(axis=0))"
   ]
  },
  {
   "cell_type": "markdown",
   "metadata": {},
   "source": [
    "<center>从数据大小上来看：train中共有213451条数据，test里共有62096条数据。  \n",
    "\n",
    "<center>从空值上来看：2个数据集都分别在一些feature中有空值的情况，分别是：\n",
    "\n",
    "|空值特征数量|train|test\n",
    "|--|--|--\n",
    "|date_first_booking|124543|62096\n",
    "|age|87990|28876\n",
    "|first_affiliate_tracked|6065|20\n",
    "\n",
    "<center>从数据类型上来：date_account_created，timestamp_first_active，date_first_booking数据类型分别是object，int64和object。  \n",
    "<center>但是通过我们仔细观察数据，这三个feature都是描述时间的，所以我们考虑把它们转换为datatime格式的来操作。"
   ]
  },
  {
   "cell_type": "markdown",
   "metadata": {},
   "source": [
    "### <center>数据探索<center>"
   ]
  },
  {
   "cell_type": "markdown",
   "metadata": {},
   "source": [
    "##### date-accout_created（账号注册生成时间)"
   ]
  },
  {
   "cell_type": "code",
   "execution_count": 138,
   "metadata": {
    "scrolled": false
   },
   "outputs": [
    {
     "name": "stdout",
     "output_type": "stream",
     "text": [
      "2014-05-13    674\n",
      "2014-06-24    670\n",
      "2014-06-25    636\n",
      "2014-05-20    632\n",
      "2014-05-14    622\n",
      "             ... \n",
      "2010-01-08      1\n",
      "2010-04-24      1\n",
      "2010-01-19      1\n",
      "2010-01-03      1\n",
      "2010-04-11      1\n",
      "Name: date_account_created, Length: 1634, dtype: int64\n",
      "count    1634.000000\n",
      "mean      130.630967\n",
      "std       139.327895\n",
      "min         1.000000\n",
      "25%        15.000000\n",
      "50%        79.000000\n",
      "75%       201.000000\n",
      "max       674.000000\n",
      "Name: date_account_created, dtype: float64\n"
     ]
    }
   ],
   "source": [
    "print(train.date_account_created.value_counts())\n",
    "print(train.date_account_created.value_counts().describe())"
   ]
  },
  {
   "cell_type": "code",
   "execution_count": 139,
   "metadata": {
    "scrolled": true
   },
   "outputs": [
    {
     "name": "stdout",
     "output_type": "stream",
     "text": [
      "2014-07-23    1105\n",
      "2014-07-22    1052\n",
      "2014-07-17     978\n",
      "2014-07-24     923\n",
      "2014-07-18     892\n",
      "2014-07-21     888\n",
      "2014-08-27     872\n",
      "2014-08-26     841\n",
      "2014-07-29     816\n",
      "2014-08-06     790\n",
      "2014-07-30     786\n",
      "2014-08-12     785\n",
      "2014-08-11     781\n",
      "2014-08-28     772\n",
      "2014-08-05     772\n",
      "2014-07-28     764\n",
      "2014-07-16     757\n",
      "2014-07-25     754\n",
      "2014-09-16     751\n",
      "2014-07-31     751\n",
      "2014-08-14     742\n",
      "2014-08-19     741\n",
      "2014-09-10     739\n",
      "2014-08-07     739\n",
      "2014-08-08     738\n",
      "2014-07-20     738\n",
      "2014-08-13     731\n",
      "2014-09-03     729\n",
      "2014-08-04     728\n",
      "2014-08-25     725\n",
      "2014-09-24     722\n",
      "2014-07-19     712\n",
      "2014-07-27     705\n",
      "2014-09-23     701\n",
      "2014-09-30     699\n",
      "2014-08-01     697\n",
      "2014-09-02     694\n",
      "2014-09-29     693\n",
      "2014-08-21     679\n",
      "2014-07-26     678\n",
      "2014-09-08     677\n",
      "2014-09-04     671\n",
      "2014-08-09     671\n",
      "2014-08-18     670\n",
      "2014-08-22     668\n",
      "2014-07-08     665\n",
      "2014-08-16     659\n",
      "2014-07-15     659\n",
      "2014-08-20     659\n",
      "2014-09-09     658\n",
      "2014-09-22     656\n",
      "2014-09-18     652\n",
      "2014-08-15     651\n",
      "2014-08-30     648\n",
      "2014-07-02     648\n",
      "2014-09-15     642\n",
      "2014-09-11     638\n",
      "2014-08-03     626\n",
      "2014-07-14     625\n",
      "2014-07-03     622\n",
      "2014-07-07     618\n",
      "2014-08-29     616\n",
      "2014-08-31     614\n",
      "2014-09-17     612\n",
      "2014-09-05     612\n",
      "2014-08-23     611\n",
      "2014-07-09     610\n",
      "2014-08-17     609\n",
      "2014-07-10     607\n",
      "2014-08-24     606\n",
      "2014-09-19     605\n",
      "2014-08-10     603\n",
      "2014-09-12     600\n",
      "2014-07-01     599\n",
      "2014-09-13     597\n",
      "2014-09-01     592\n",
      "2014-08-02     582\n",
      "2014-09-07     555\n",
      "2014-09-27     548\n",
      "2014-09-06     543\n",
      "2014-09-21     540\n",
      "2014-09-25     533\n",
      "2014-09-14     532\n",
      "2014-09-20     532\n",
      "2014-09-26     531\n",
      "2014-07-11     530\n",
      "2014-09-28     520\n",
      "2014-07-06     475\n",
      "2014-07-12     472\n",
      "2014-07-04     445\n",
      "2014-07-05     421\n",
      "2014-07-13     401\n",
      "Name: date_account_created, dtype: int64\n",
      "count      92.000000\n",
      "mean      674.956522\n",
      "std       122.568116\n",
      "min       401.000000\n",
      "25%       606.750000\n",
      "50%       662.000000\n",
      "75%       739.000000\n",
      "max      1105.000000\n",
      "Name: date_account_created, dtype: float64\n"
     ]
    }
   ],
   "source": [
    "print(test.date_account_created.value_counts())\n",
    "print(test.date_account_created.value_counts().describe())"
   ]
  },
  {
   "cell_type": "markdown",
   "metadata": {},
   "source": [
    "把汇总后可以发现：   \n",
    "看起来数据基本正常，没有异常值   \n",
    "train dataset里的账号生成时间分布在1634个不同的天数内，大约是四年半；test dataset里分布了92个不同的天数，大概3个月。  \n",
    "而且看起来train dataset里的天数显示是从2010年到2014年5月，而恰好test dataset里显示从2014年7月开始，那么我们可以猜测这俩个数据集或许就是依赖账号生成时间而进行分割的。我们需要证明我们的猜想。"
   ]
  },
  {
   "cell_type": "markdown",
   "metadata": {},
   "source": [
    "#####  首先来看一下时间线是不是按照我们想想的情况发生的："
   ]
  },
  {
   "cell_type": "markdown",
   "metadata": {},
   "source": [
    "这里我们需要先把数据的类型进行转换，用pandas的to_datetime()函数把其转换成时间数据类型，这样我们能更容易看出数据的情况："
   ]
  },
  {
   "cell_type": "code",
   "execution_count": 140,
   "metadata": {
    "scrolled": true
   },
   "outputs": [
    {
     "name": "stdout",
     "output_type": "stream",
     "text": [
      "Train数据显示第一天: 2010-01-01 00:00:00，最后一天：2014-06-30 00:00:00\n",
      "Test数据显示第一天: 2014-07-01 00:00:00，最后一天：2014-09-30 00:00:00\n"
     ]
    }
   ],
   "source": [
    "train[\"date_account_created\"] = pd.to_datetime(train.date_account_created)\n",
    "test[\"date_account_created\"]= pd.to_datetime(test.date_account_created)\n",
    "print (\"Train数据显示第一天: {}，最后一天：{}\".format(train.date_account_created.min(),train.date_account_created.max()))\n",
    "print (\"Test数据显示第一天: {}，最后一天：{}\".format(test.date_account_created.min(),test.date_account_created.max()))"
   ]
  },
  {
   "cell_type": "markdown",
   "metadata": {},
   "source": [
    "利用datetime后转变的时间类型我们可以直接进行画图，看一下随着日期的变动每天的date_account_created用户注册量有怎样的呈现。"
   ]
  },
  {
   "cell_type": "code",
   "execution_count": 141,
   "metadata": {
    "scrolled": false
   },
   "outputs": [
    {
     "name": "stderr",
     "output_type": "stream",
     "text": [
      "C:\\ProgramData\\Anaconda3\\lib\\site-packages\\ipykernel_launcher.py:3: FutureWarning: `Series.plot()` should not be called with positional arguments, only keyword arguments. The order of positional arguments will change in the future. Use `Series.plot(kind='line')` instead of `Series.plot('line',)`.\n",
      "  This is separate from the ipykernel package so we can avoid doing imports until\n",
      "C:\\ProgramData\\Anaconda3\\lib\\site-packages\\ipykernel_launcher.py:4: FutureWarning: `Series.plot()` should not be called with positional arguments, only keyword arguments. The order of positional arguments will change in the future. Use `Series.plot(kind='line')` instead of `Series.plot('line',)`.\n",
      "  after removing the cwd from sys.path.\n"
     ]
    },
    {
     "data": {
      "text/plain": [
       "Text(0.5, 1.0, 'Accounts created vs Year')"
      ]
     },
     "execution_count": 141,
     "metadata": {},
     "output_type": "execute_result"
    },
    {
     "data": {
      "image/png": "[encoded data removed]",
      "text/plain": [
       "<Figure size 864x432 with 1 Axes>"
      ]
     },
     "metadata": {},
     "output_type": "display_data"
    }
   ],
   "source": [
    "\n",
    "sns.set_style('whitegrid')\n",
    "fig = plt.figure(figsize=(12, 6))\n",
    "train.date_account_created.value_counts().plot('line')\n",
    "test.date_account_created.value_counts().plot('line')\n",
    "plt.xlabel('Year')\n",
    "plt.ylabel('Count created')\n",
    "plt.title('Accounts created vs Year')\n"
   ]
  },
  {
   "cell_type": "markdown",
   "metadata": {},
   "source": [
    "我们可以看到随着时间的推移，账户的注册量越来越多，这一点证明了Airbnb的注册新用户是一个非常好的线性增长。   \n",
    "同时我们需要注意有一些峰值的出现，是否说明订房日期和节假日星期天等有所关联呢？我们还需要看到一个根据星期天来划分的feature。"
   ]
  },
  {
   "cell_type": "markdown",
   "metadata": {},
   "source": [
    "##### timestamp_first_active(账号激活时间）"
   ]
  },
  {
   "cell_type": "markdown",
   "metadata": {},
   "source": [
    "我们还是首先观察数据类型，我们记得timestamp_first_active数据看起来像是一个时间记录的数据，不过它是一个object类型，我们需要转换。"
   ]
  },
  {
   "cell_type": "code",
   "execution_count": 142,
   "metadata": {
    "scrolled": true
   },
   "outputs": [
    {
     "name": "stdout",
     "output_type": "stream",
     "text": [
      "20131002011351    1\n",
      "20130622024754    1\n",
      "20111120235256    1\n",
      "20131118144252    1\n",
      "20131106211656    1\n",
      "                 ..\n",
      "20130719183131    1\n",
      "20131022211356    1\n",
      "20131022215454    1\n",
      "20120508143902    1\n",
      "20131104235813    1\n",
      "Name: timestamp_first_active, Length: 213451, dtype: int64\n",
      "count    213451.0\n",
      "mean          1.0\n",
      "std           0.0\n",
      "min           1.0\n",
      "25%           1.0\n",
      "50%           1.0\n",
      "75%           1.0\n",
      "max           1.0\n",
      "Name: timestamp_first_active, dtype: float64\n"
     ]
    }
   ],
   "source": [
    "print(train.timestamp_first_active.value_counts())\n",
    "print(train.timestamp_first_active.value_counts().describe())"
   ]
  },
  {
   "cell_type": "code",
   "execution_count": 143,
   "metadata": {
    "scrolled": true
   },
   "outputs": [
    {
     "name": "stdout",
     "output_type": "stream",
     "text": [
      "20140905025239    1\n",
      "20140806050934    1\n",
      "20140714163339    1\n",
      "20140804183638    1\n",
      "20140812225725    1\n",
      "                 ..\n",
      "20140825211204    1\n",
      "20140801212738    1\n",
      "20140727032129    1\n",
      "20140724015424    1\n",
      "20140722204519    1\n",
      "Name: timestamp_first_active, Length: 62096, dtype: int64\n",
      "count    62096.0\n",
      "mean         1.0\n",
      "std          0.0\n",
      "min          1.0\n",
      "25%          1.0\n",
      "50%          1.0\n",
      "75%          1.0\n",
      "max          1.0\n",
      "Name: timestamp_first_active, dtype: float64\n"
     ]
    }
   ],
   "source": [
    "print(test.timestamp_first_active.value_counts())\n",
    "print(test.timestamp_first_active.value_counts().describe())"
   ]
  },
  {
   "cell_type": "markdown",
   "metadata": {},
   "source": [
    "我们可以发现每一个通过这样观察每一个数据都是一个比较独立的values，看起来是年月日时分秒的一个形式，那么我们需要转换一下"
   ]
  },
  {
   "cell_type": "code",
   "execution_count": 144,
   "metadata": {
    "scrolled": true
   },
   "outputs": [],
   "source": [
    "train['date_first_active'] = pd.to_datetime(train.timestamp_first_active // 1000000, format = '%Y%m%d')\n",
    "test['date_first_active'] = pd.to_datetime(test.timestamp_first_active // 1000000, format = '%Y%m%d')"
   ]
  },
  {
   "cell_type": "code",
   "execution_count": 225,
   "metadata": {},
   "outputs": [
    {
     "data": {
      "text/plain": [
       "id                                 object\n",
       "date_account_created       datetime64[ns]\n",
       "timestamp_first_active              int64\n",
       "date_first_booking                 object\n",
       "gender                             object\n",
       "age                               float64\n",
       "signup_method                      object\n",
       "signup_flow                         int64\n",
       "language                           object\n",
       "affiliate_channel                  object\n",
       "affiliate_provider                 object\n",
       "first_affiliate_tracked            object\n",
       "signup_app                         object\n",
       "first_device_type                  object\n",
       "first_browser                      object\n",
       "country_destination                object\n",
       "date_first_active          datetime64[ns]\n",
       "dtype: object"
      ]
     },
     "execution_count": 225,
     "metadata": {},
     "output_type": "execute_result"
    }
   ],
   "source": [
    "train.dtypes"
   ]
  },
  {
   "cell_type": "code",
   "execution_count": 145,
   "metadata": {
    "scrolled": false
   },
   "outputs": [
    {
     "name": "stdout",
     "output_type": "stream",
     "text": [
      "2014-05-13    673\n",
      "2014-06-24    670\n",
      "2014-06-25    635\n",
      "2014-05-20    631\n",
      "2014-05-14    622\n",
      "             ... \n",
      "2010-01-01      1\n",
      "2010-06-18      1\n",
      "2010-01-08      1\n",
      "2010-01-02      1\n",
      "2010-04-01      1\n",
      "Name: date_first_active, Length: 1639, dtype: int64\n",
      "count    1639.000000\n",
      "mean      130.232459\n",
      "std       139.225606\n",
      "min         1.000000\n",
      "25%        15.000000\n",
      "50%        79.000000\n",
      "75%       201.000000\n",
      "max       673.000000\n",
      "Name: date_first_active, dtype: float64\n"
     ]
    }
   ],
   "source": [
    "print(train.date_first_active.value_counts())\n",
    "print(train.date_first_active.value_counts().describe())"
   ]
  },
  {
   "cell_type": "code",
   "execution_count": 227,
   "metadata": {},
   "outputs": [
    {
     "data": {
      "text/plain": [
       "0"
      ]
     },
     "execution_count": 227,
     "metadata": {},
     "output_type": "execute_result"
    }
   ],
   "source": [
    "train.date_first_active.isnull().sum()"
   ]
  },
  {
   "cell_type": "code",
   "execution_count": 146,
   "metadata": {
    "scrolled": true
   },
   "outputs": [
    {
     "name": "stdout",
     "output_type": "stream",
     "text": [
      "2014-07-23    1105\n",
      "2014-07-22    1052\n",
      "2014-07-17     978\n",
      "2014-07-24     923\n",
      "2014-07-18     892\n",
      "2014-07-21     888\n",
      "2014-08-27     872\n",
      "2014-08-26     841\n",
      "2014-07-29     816\n",
      "2014-08-06     790\n",
      "2014-07-30     786\n",
      "2014-08-12     785\n",
      "2014-08-11     781\n",
      "2014-08-05     772\n",
      "2014-08-28     772\n",
      "2014-07-28     764\n",
      "2014-07-16     757\n",
      "2014-07-25     754\n",
      "2014-09-16     751\n",
      "2014-07-31     751\n",
      "2014-08-14     742\n",
      "2014-08-19     741\n",
      "2014-09-10     739\n",
      "2014-08-07     739\n",
      "2014-07-20     738\n",
      "2014-08-08     738\n",
      "2014-08-13     731\n",
      "2014-09-03     729\n",
      "2014-08-04     728\n",
      "2014-08-25     725\n",
      "2014-09-24     722\n",
      "2014-07-19     712\n",
      "2014-07-27     705\n",
      "2014-09-23     701\n",
      "2014-09-30     699\n",
      "2014-08-01     697\n",
      "2014-09-02     694\n",
      "2014-09-29     693\n",
      "2014-08-21     679\n",
      "2014-07-26     678\n",
      "2014-09-08     677\n",
      "2014-09-04     671\n",
      "2014-08-09     671\n",
      "2014-08-18     670\n",
      "2014-08-22     668\n",
      "2014-07-08     665\n",
      "2014-08-20     659\n",
      "2014-07-15     659\n",
      "2014-08-16     659\n",
      "2014-09-09     658\n",
      "2014-09-22     656\n",
      "2014-09-18     652\n",
      "2014-08-15     651\n",
      "2014-08-30     648\n",
      "2014-07-02     648\n",
      "2014-09-15     642\n",
      "2014-09-11     638\n",
      "2014-08-03     626\n",
      "2014-07-14     625\n",
      "2014-07-03     622\n",
      "2014-07-07     618\n",
      "2014-08-29     616\n",
      "2014-08-31     614\n",
      "2014-09-05     612\n",
      "2014-09-17     612\n",
      "2014-08-23     611\n",
      "2014-07-09     610\n",
      "2014-08-17     609\n",
      "2014-07-10     607\n",
      "2014-08-24     606\n",
      "2014-09-19     605\n",
      "2014-08-10     603\n",
      "2014-09-12     600\n",
      "2014-07-01     599\n",
      "2014-09-13     597\n",
      "2014-09-01     592\n",
      "2014-08-02     582\n",
      "2014-09-07     555\n",
      "2014-09-27     548\n",
      "2014-09-06     543\n",
      "2014-09-21     540\n",
      "2014-09-25     533\n",
      "2014-09-20     532\n",
      "2014-09-14     532\n",
      "2014-09-26     531\n",
      "2014-07-11     530\n",
      "2014-09-28     520\n",
      "2014-07-06     475\n",
      "2014-07-12     472\n",
      "2014-07-04     445\n",
      "2014-07-05     421\n",
      "2014-07-13     401\n",
      "Name: date_first_active, dtype: int64\n",
      "count      92.000000\n",
      "mean      674.956522\n",
      "std       122.568116\n",
      "min       401.000000\n",
      "25%       606.750000\n",
      "50%       662.000000\n",
      "75%       739.000000\n",
      "max      1105.000000\n",
      "Name: date_first_active, dtype: float64\n"
     ]
    }
   ],
   "source": [
    "print(test.date_first_active.value_counts())\n",
    "print(test.date_first_active.value_counts().describe())"
   ]
  },
  {
   "cell_type": "markdown",
   "metadata": {},
   "source": [
    "好了我们给把时间戳形式的这一类数据转换成了时间类型的数据，然后确定数据数值基本没有异常，进行画图。"
   ]
  },
  {
   "cell_type": "code",
   "execution_count": 147,
   "metadata": {
    "scrolled": false
   },
   "outputs": [
    {
     "name": "stderr",
     "output_type": "stream",
     "text": [
      "C:\\ProgramData\\Anaconda3\\lib\\site-packages\\ipykernel_launcher.py:3: FutureWarning: `Series.plot()` should not be called with positional arguments, only keyword arguments. The order of positional arguments will change in the future. Use `Series.plot(kind='line')` instead of `Series.plot('line',)`.\n",
      "  This is separate from the ipykernel package so we can avoid doing imports until\n",
      "C:\\ProgramData\\Anaconda3\\lib\\site-packages\\ipykernel_launcher.py:4: FutureWarning: `Series.plot()` should not be called with positional arguments, only keyword arguments. The order of positional arguments will change in the future. Use `Series.plot(kind='line')` instead of `Series.plot('line',)`.\n",
      "  after removing the cwd from sys.path.\n"
     ]
    },
    {
     "data": {
      "text/plain": [
       "Text(0.5, 1.0, 'First actived vs Year')"
      ]
     },
     "execution_count": 147,
     "metadata": {},
     "output_type": "execute_result"
    },
    {
     "data": {
      "image/png": "[encoded data removed]",
      "text/plain": [
       "<Figure size 864x432 with 1 Axes>"
      ]
     },
     "metadata": {},
     "output_type": "display_data"
    }
   ],
   "source": [
    "sns.set_style('whitegrid')\n",
    "plt.figure(figsize=(12, 6))\n",
    "train.date_first_active.value_counts().plot('line')\n",
    "test.date_first_active.value_counts().plot('line')\n",
    "plt.xlabel('Year')\n",
    "plt.ylabel('First actived')\n",
    "plt.title(\"First actived vs Year\")"
   ]
  },
  {
   "cell_type": "markdown",
   "metadata": {},
   "source": [
    "可以发现timestamp_first_active和date_account_created数据表现基本类似。都是随着时间的推移，注册量和激活量显著增加。同样存在峰值，在做特征工程的时候需要注意把时间这部分数据分成几个小的feature。"
   ]
  },
  {
   "cell_type": "markdown",
   "metadata": {},
   "source": [
    "##### data_first_booking(第一次订房时间）"
   ]
  },
  {
   "cell_type": "code",
   "execution_count": 148,
   "metadata": {
    "scrolled": true
   },
   "outputs": [
    {
     "data": {
      "text/plain": [
       "count          88908\n",
       "unique          1976\n",
       "top       2014-05-22\n",
       "freq             248\n",
       "Name: date_first_booking, dtype: object"
      ]
     },
     "execution_count": 148,
     "metadata": {},
     "output_type": "execute_result"
    }
   ],
   "source": [
    "train.date_first_booking.describe()"
   ]
  },
  {
   "cell_type": "code",
   "execution_count": 149,
   "metadata": {
    "scrolled": true
   },
   "outputs": [
    {
     "data": {
      "text/plain": [
       "count    0.0\n",
       "mean     NaN\n",
       "std      NaN\n",
       "min      NaN\n",
       "25%      NaN\n",
       "50%      NaN\n",
       "75%      NaN\n",
       "max      NaN\n",
       "Name: date_first_booking, dtype: float64"
      ]
     },
     "execution_count": 149,
     "metadata": {},
     "output_type": "execute_result"
    }
   ],
   "source": [
    "test.date_first_booking.describe()"
   ]
  },
  {
   "cell_type": "markdown",
   "metadata": {},
   "source": [
    "第一次订房时间在train里存在一半以上的空值，在test dataset里更是全部是空值，怕由于我们改动给未来模型增加noise，所以我们会选择删除这个feature。"
   ]
  },
  {
   "cell_type": "markdown",
   "metadata": {},
   "source": [
    "##### gender(性别)"
   ]
  },
  {
   "cell_type": "markdown",
   "metadata": {},
   "source": [
    "我们之前观察性别里有存在unknown的情况，那我们先看一下这一feature下有几个类型的数据。"
   ]
  },
  {
   "cell_type": "code",
   "execution_count": 150,
   "metadata": {
    "scrolled": true
   },
   "outputs": [
    {
     "name": "stdout",
     "output_type": "stream",
     "text": [
      "Train dataset中性别分布为：\n",
      "  -unknown-    95688\n",
      "FEMALE       63041\n",
      "MALE         54440\n",
      "OTHER          282\n",
      "Name: gender, dtype: int64\n",
      "Test dataset中性别分布为：\n",
      "  -unknown-    33792\n",
      "FEMALE       14483\n",
      "MALE         13769\n",
      "OTHER           52\n",
      "Name: gender, dtype: int64\n"
     ]
    }
   ],
   "source": [
    "print('Train dataset中性别分布为：\\n ',  train.gender.value_counts(dropna = False))\n",
    "print('Test dataset中性别分布为：\\n ',test.gender.value_counts(dropna = False))"
   ]
  },
  {
   "cell_type": "markdown",
   "metadata": {},
   "source": [
    "unknown的值有很多，尝试把它们变成空值进行处理。"
   ]
  },
  {
   "cell_type": "code",
   "execution_count": 151,
   "metadata": {
    "scrolled": true
   },
   "outputs": [],
   "source": [
    "train.gender.replace('-unknown-', np.nan, inplace=True)\n",
    "test.gender.replace('-unknown-', np.nan, inplace=True)"
   ]
  },
  {
   "cell_type": "code",
   "execution_count": 152,
   "metadata": {
    "scrolled": false
   },
   "outputs": [
    {
     "data": {
      "image/png": "[encoded data removed]",
      "text/plain": [
       "<Figure size 576x432 with 2 Axes>"
      ]
     },
     "metadata": {},
     "output_type": "display_data"
    }
   ],
   "source": [
    "sns.set_style('ticks')\n",
    "plt.figure(figsize=(8, 6))\n",
    "plt.subplot(1,2,1)\n",
    "plt.bar(train.gender.value_counts().index,train.gender.value_counts(),color=['#073515','#327353','#107850','#529214'])\n",
    "for i in range(3):\n",
    "    dd = train.gender.value_counts().index[i]\n",
    "    ff = train.gender.value_counts().values[i]\n",
    "    plt.text(dd,ff+50,'%.0f' % ff, ha='center', va='bottom', fontsize=10)\n",
    "plt.xlabel('Gender')\n",
    "plt.ylabel('Number')\n",
    "plt.title(\"Train dataset\")\n",
    "plt.subplot(1,2,2)\n",
    "plt.bar(test.gender.value_counts().index,test.gender.value_counts(),color=['#073515','#327353','#107850','#529214'])\n",
    "for i in range(3):\n",
    "    dd = test.gender.value_counts().index[i]\n",
    "    ff = test.gender.value_counts().values[i]\n",
    "    plt.text(dd,ff+50,'%.0f' % ff, ha='center', va='bottom', fontsize=10)\n",
    "plt.xlabel('Gender')\n",
    "plt.ylabel('Number')\n",
    "plt.title(\"Test dataset\")\n",
    "\n",
    "plt.subplots_adjust(left=0.04, top=0.96, right = 0.96, bottom = 0.04)"
   ]
  },
  {
   "cell_type": "markdown",
   "metadata": {},
   "source": [
    "我们用柱状图可视化一下，画图的步骤可能有些繁琐，以后加以改进。通过图中我们可以看出除了空值的话，女性比男性要多一些，那么我们也想到了各个国家的风俗习惯可能会有所差异，一起去旅游度假的时候，有的国家男性订房比较多，有的国家女性来掌管这项事务，我们针对于性别和订房国家来看一下他们之间的关系。又由于我们的数据条件下，训练集中有订房国家，所以这里我们只采用训练集来看一下这俩个特征之间的关系情况。"
   ]
  },
  {
   "cell_type": "code",
   "execution_count": 153,
   "metadata": {
    "scrolled": false
   },
   "outputs": [
    {
     "name": "stderr",
     "output_type": "stream",
     "text": [
      "C:\\ProgramData\\Anaconda3\\lib\\site-packages\\ipykernel_launcher.py:12: FutureWarning: `Series.plot()` should not be called with positional arguments, only keyword arguments. The order of positional arguments will change in the future. Use `Series.plot(kind='bar')` instead of `Series.plot('bar',)`.\n",
      "  if sys.path[0] == '':\n",
      "C:\\ProgramData\\Anaconda3\\lib\\site-packages\\ipykernel_launcher.py:13: FutureWarning: `Series.plot()` should not be called with positional arguments, only keyword arguments. The order of positional arguments will change in the future. Use `Series.plot(kind='bar')` instead of `Series.plot('bar',)`.\n",
      "  del sys.path[0]\n",
      "C:\\ProgramData\\Anaconda3\\lib\\site-packages\\ipykernel_launcher.py:14: FutureWarning: `Series.plot()` should not be called with positional arguments, only keyword arguments. The order of positional arguments will change in the future. Use `Series.plot(kind='bar')` instead of `Series.plot('bar',)`.\n",
      "  \n",
      "C:\\ProgramData\\Anaconda3\\lib\\site-packages\\ipykernel_launcher.py:15: FutureWarning: `Series.plot()` should not be called with positional arguments, only keyword arguments. The order of positional arguments will change in the future. Use `Series.plot(kind='bar')` instead of `Series.plot('bar',)`.\n",
      "  from ipykernel import kernelapp as app\n"
     ]
    },
    {
     "data": {
      "image/png": "[encoded data removed]",
      "text/plain": [
       "<Figure size 720x432 with 1 Axes>"
      ]
     },
     "metadata": {},
     "output_type": "display_data"
    }
   ],
   "source": [
    "plt.figure(figsize=(10, 6))\n",
    "female = sum(train.gender == 'FEMALE')\n",
    "male = sum(train.gender == 'MALE')\n",
    "other = sum(train.gender == 'OTHER')\n",
    "Nan = sum(train.gender.isnull())\n",
    "\n",
    "female_destinations = train.loc[train.gender == 'FEMALE', 'country_destination'].value_counts()/female *100\n",
    "male_destinations = train.loc[train.gender == 'MALE', 'country_destination'].value_counts() /male *100\n",
    "other_destinations = train.loc[train.gender == 'OTHER', 'country_destination'].value_counts()/other*100 \n",
    "nan_destinations = train.loc[train.gender.isnull(), 'country_destination'].value_counts()/Nan*100 \n",
    "\n",
    "female_destinations.plot('bar', width = 0.15, color =  '#FF8B8B', position = 0, label = 'Female', rot = 0)\n",
    "male_destinations.plot('bar', width = 0.15, color = '#0E38B1', position = 1, label = 'Male', rot = 0)\n",
    "other_destinations.plot('bar', width = 0.15, color =  '#61BFAD', position = 2, label = 'Other', rot = 0)\n",
    "nan_destinations.plot('bar', width = 0.15, color =  '#61145D',position = 3, label = 'Nan', rot = 0)\n",
    "\n",
    "plt.legend()\n",
    "plt.xlabel('Destination Country')\n",
    "plt.ylabel('Percentage Of Booking')\n",
    "plt.show()"
   ]
  },
  {
   "cell_type": "markdown",
   "metadata": {},
   "source": [
    "结论并不如我们期待那么乐观，基本上男女订房比例是在一个相似的水平没有很明显的区别,F(Not Destination Found;无目的地)这一类别中空值比例很高"
   ]
  },
  {
   "cell_type": "markdown",
   "metadata": {},
   "source": [
    "##### Age(年龄)"
   ]
  },
  {
   "cell_type": "markdown",
   "metadata": {},
   "source": [
    "我们之前查看空值的时候记得age在train和test里面都有空值的情况，我们再来看一下数据描述。"
   ]
  },
  {
   "cell_type": "code",
   "execution_count": 154,
   "metadata": {
    "scrolled": true
   },
   "outputs": [
    {
     "name": "stdout",
     "output_type": "stream",
     "text": [
      "30.0      6124\n",
      "31.0      6016\n",
      "29.0      5963\n",
      "28.0      5939\n",
      "32.0      5855\n",
      "27.0      5738\n",
      "33.0      5527\n",
      "26.0      5044\n",
      "34.0      5029\n",
      "35.0      4860\n",
      "25.0      4459\n",
      "36.0      4083\n",
      "37.0      3694\n",
      "38.0      3384\n",
      "24.0      3220\n",
      "39.0      2998\n",
      "40.0      2766\n",
      "41.0      2538\n",
      "23.0      2462\n",
      "42.0      2243\n",
      "45.0      2149\n",
      "44.0      2137\n",
      "43.0      2056\n",
      "46.0      1875\n",
      "22.0      1702\n",
      "47.0      1646\n",
      "48.0      1469\n",
      "50.0      1387\n",
      "51.0      1337\n",
      "49.0      1331\n",
      "52.0      1210\n",
      "105.0     1131\n",
      "19.0      1102\n",
      "53.0      1098\n",
      "54.0      1019\n",
      "55.0      1011\n",
      "21.0       982\n",
      "56.0       941\n",
      "57.0       915\n",
      "58.0       823\n",
      "59.0       780\n",
      "60.0       734\n",
      "2014.0     710\n",
      "61.0       680\n",
      "18.0       669\n",
      "62.0       593\n",
      "63.0       573\n",
      "64.0       549\n",
      "20.0       540\n",
      "65.0       516\n",
      "66.0       435\n",
      "67.0       402\n",
      "68.0       373\n",
      "69.0       276\n",
      "70.0       259\n",
      "110.0      196\n",
      "72.0       189\n",
      "71.0       180\n",
      "73.0       149\n",
      "74.0       123\n",
      "75.0        94\n",
      "77.0        72\n",
      "76.0        68\n",
      "17.0        67\n",
      "79.0        50\n",
      "78.0        50\n",
      "95.0        49\n",
      "104.0       48\n",
      "80.0        46\n",
      "5.0         45\n",
      "2013.0      39\n",
      "102.0       34\n",
      "109.0       31\n",
      "87.0        31\n",
      "81.0        30\n",
      "86.0        27\n",
      "82.0        26\n",
      "103.0       26\n",
      "16.0        26\n",
      "100.0       26\n",
      "85.0        26\n",
      "83.0        25\n",
      "96.0        25\n",
      "107.0       23\n",
      "101.0       23\n",
      "84.0        20\n",
      "93.0        18\n",
      "90.0        18\n",
      "106.0       17\n",
      "99.0        17\n",
      "98.0        15\n",
      "108.0       15\n",
      "92.0        14\n",
      "89.0        13\n",
      "115.0       13\n",
      "88.0        12\n",
      "94.0        12\n",
      "91.0        12\n",
      "97.0        10\n",
      "15.0         8\n",
      "2.0          7\n",
      "113.0        4\n",
      "1931.0       3\n",
      "4.0          3\n",
      "1949.0       3\n",
      "1932.0       3\n",
      "1924.0       2\n",
      "1936.0       2\n",
      "1947.0       2\n",
      "1929.0       2\n",
      "1928.0       2\n",
      "1.0          2\n",
      "111.0        2\n",
      "1935.0       1\n",
      "1926.0       1\n",
      "1995.0       1\n",
      "1927.0       1\n",
      "2008.0       1\n",
      "1953.0       1\n",
      "132.0        1\n",
      "150.0        1\n",
      "1925.0       1\n",
      "1933.0       1\n",
      "1942.0       1\n",
      "112.0        1\n",
      "1938.0       1\n",
      "1952.0       1\n",
      "Name: age, dtype: int64\n",
      "count    125461.000000\n",
      "mean         49.668335\n",
      "std         155.666612\n",
      "min           1.000000\n",
      "25%          28.000000\n",
      "50%          34.000000\n",
      "75%          43.000000\n",
      "max        2014.000000\n",
      "Name: age, dtype: float64\n",
      "28.0      1748\n",
      "27.0      1724\n",
      "26.0      1701\n",
      "25.0      1690\n",
      "29.0      1684\n",
      "30.0      1588\n",
      "31.0      1524\n",
      "24.0      1351\n",
      "32.0      1332\n",
      "33.0      1268\n",
      "34.0      1147\n",
      "35.0      1089\n",
      "23.0      1054\n",
      "36.0       949\n",
      "19.0       921\n",
      "22.0       806\n",
      "37.0       780\n",
      "38.0       707\n",
      "39.0       644\n",
      "21.0       613\n",
      "40.0       561\n",
      "41.0       560\n",
      "45.0       520\n",
      "42.0       488\n",
      "44.0       447\n",
      "46.0       442\n",
      "43.0       430\n",
      "47.0       360\n",
      "20.0       356\n",
      "48.0       310\n",
      "49.0       294\n",
      "51.0       293\n",
      "50.0       292\n",
      "52.0       249\n",
      "53.0       243\n",
      "54.0       229\n",
      "105.0      220\n",
      "55.0       214\n",
      "57.0       204\n",
      "56.0       189\n",
      "58.0       182\n",
      "59.0       158\n",
      "18.0       155\n",
      "60.0       149\n",
      "61.0       136\n",
      "62.0       132\n",
      "65.0       128\n",
      "63.0       107\n",
      "64.0        96\n",
      "66.0        80\n",
      "67.0        77\n",
      "68.0        72\n",
      "69.0        70\n",
      "70.0        44\n",
      "71.0        38\n",
      "110.0       32\n",
      "72.0        30\n",
      "73.0        26\n",
      "75.0        21\n",
      "76.0        18\n",
      "101.0       17\n",
      "74.0        16\n",
      "17.0        14\n",
      "16.0        13\n",
      "77.0        13\n",
      "95.0        12\n",
      "78.0         9\n",
      "79.0         8\n",
      "80.0         7\n",
      "85.0         6\n",
      "109.0        5\n",
      "100.0        5\n",
      "102.0        5\n",
      "2001.0       5\n",
      "94.0         5\n",
      "1927.0       5\n",
      "107.0        5\n",
      "83.0         5\n",
      "92.0         4\n",
      "103.0        4\n",
      "1928.0       4\n",
      "104.0        4\n",
      "84.0         4\n",
      "97.0         3\n",
      "1934.0       3\n",
      "88.0         3\n",
      "81.0         3\n",
      "93.0         3\n",
      "106.0        3\n",
      "90.0         3\n",
      "89.0         3\n",
      "86.0         3\n",
      "1925.0       2\n",
      "99.0         2\n",
      "1933.0       2\n",
      "1.0          2\n",
      "1923.0       2\n",
      "82.0         2\n",
      "1940.0       2\n",
      "1935.0       2\n",
      "1944.0       2\n",
      "96.0         2\n",
      "98.0         2\n",
      "91.0         2\n",
      "1920.0       2\n",
      "1951.0       2\n",
      "1941.0       1\n",
      "1930.0       1\n",
      "15.0         1\n",
      "1937.0       1\n",
      "1938.0       1\n",
      "1968.0       1\n",
      "1931.0       1\n",
      "1922.0       1\n",
      "1939.0       1\n",
      "1924.0       1\n",
      "108.0        1\n",
      "2000.0       1\n",
      "1926.0       1\n",
      "2002.0       1\n",
      "1948.0       1\n",
      "1947.0       1\n",
      "1945.0       1\n",
      "1954.0       1\n",
      "Name: age, dtype: int64\n",
      "count    33220.000000\n",
      "mean        37.616677\n",
      "std         74.440647\n",
      "min          1.000000\n",
      "25%         26.000000\n",
      "50%         31.000000\n",
      "75%         40.000000\n",
      "max       2002.000000\n",
      "Name: age, dtype: float64\n"
     ]
    }
   ],
   "source": [
    "print(train.age.value_counts())\n",
    "print(train.age.describe())\n",
    "print(test.age.value_counts())\n",
    "print(test.age.describe())"
   ]
  },
  {
   "cell_type": "markdown",
   "metadata": {},
   "source": [
    "出现了最大年龄2014,2002的值，这一点数据异常值很多，我们猜测是把出发日期或者是出生日期填错了，根据我们的经验我们需要年龄设置一个有效区间。   \n",
    "根据人类最长寿命者Jeanne Calment的122岁到18岁的合法身份，我们先观察一下异常数据情况："
   ]
  },
  {
   "cell_type": "code",
   "execution_count": 155,
   "metadata": {
    "scrolled": true
   },
   "outputs": [
    {
     "name": "stdout",
     "output_type": "stream",
     "text": [
      "Train中Age异常值：\n",
      "939\n",
      "Test中Age异常值：\n",
      "79\n"
     ]
    }
   ],
   "source": [
    "print('Train中Age异常值：')\n",
    "print(sum(train.age>122)+sum(train.age<18))\n",
    "print('Test中Age异常值：')\n",
    "print(sum(test.age>122)+sum(test.age<18))"
   ]
  },
  {
   "cell_type": "code",
   "execution_count": 156,
   "metadata": {
    "scrolled": true
   },
   "outputs": [
    {
     "name": "stdout",
     "output_type": "stream",
     "text": [
      "count     781.000000\n",
      "mean     2006.308579\n",
      "std        95.711349\n",
      "min       132.000000\n",
      "25%      2014.000000\n",
      "50%      2014.000000\n",
      "75%      2014.000000\n",
      "max      2014.000000\n",
      "Name: age, dtype: float64\n",
      "count      49.000000\n",
      "mean     1943.836735\n",
      "std        25.493747\n",
      "min      1920.000000\n",
      "25%      1927.000000\n",
      "50%      1934.000000\n",
      "75%      1947.000000\n",
      "max      2002.000000\n",
      "Name: age, dtype: float64\n"
     ]
    }
   ],
   "source": [
    "print(train[train.age > 122]['age'].describe())\n",
    "print(test[test.age > 122]['age'].describe())"
   ]
  },
  {
   "cell_type": "code",
   "execution_count": 157,
   "metadata": {
    "scrolled": true
   },
   "outputs": [],
   "source": [
    "pd.set_option('display.max_columns',1000)\n",
    "pd.set_option('display.max_rows',300)"
   ]
  },
  {
   "cell_type": "markdown",
   "metadata": {},
   "source": [
    "25/50/75分位数显示Train中2014这个值比较多，和我们猜想填错注册时间基本验证，训练集是从2010年的数据开始那么我们看一下age大于2009的有多少：\n"
   ]
  },
  {
   "cell_type": "code",
   "execution_count": 158,
   "metadata": {
    "scrolled": true
   },
   "outputs": [
    {
     "data": {
      "text/plain": [
       "388       2014.0\n",
       "673       2014.0\n",
       "1040      2014.0\n",
       "1177      2013.0\n",
       "1200      2014.0\n",
       "           ...  \n",
       "187389    2014.0\n",
       "188301    2014.0\n",
       "190412    2014.0\n",
       "190941    2014.0\n",
       "191260    2014.0\n",
       "Name: age, Length: 749, dtype: float64"
      ]
     },
     "execution_count": 158,
     "metadata": {},
     "output_type": "execute_result"
    }
   ],
   "source": [
    "train[train.age > 2009].age"
   ]
  },
  {
   "cell_type": "markdown",
   "metadata": {},
   "source": [
    "占据异常值的大部分，我们把它们转换为空值后，我们再看一下其他大于122岁的："
   ]
  },
  {
   "cell_type": "code",
   "execution_count": 159,
   "metadata": {},
   "outputs": [],
   "source": [
    "train.loc[train.age > 2009, 'age'] = np.nan"
   ]
  },
  {
   "cell_type": "code",
   "execution_count": 160,
   "metadata": {
    "scrolled": true
   },
   "outputs": [
    {
     "data": {
      "text/plain": [
       "41046     1949.0\n",
       "55474     1931.0\n",
       "59537     1932.0\n",
       "67223     1932.0\n",
       "67610     1932.0\n",
       "81999     1928.0\n",
       "102044    1936.0\n",
       "104695    1933.0\n",
       "114377    1935.0\n",
       "114599    1925.0\n",
       "118621    1952.0\n",
       "144698     150.0\n",
       "145422    1927.0\n",
       "156511     132.0\n",
       "157181    1931.0\n",
       "157318    1953.0\n",
       "160781    1942.0\n",
       "165271    1995.0\n",
       "178116    2008.0\n",
       "180961    1928.0\n",
       "180995    1924.0\n",
       "184424    1936.0\n",
       "189661    1929.0\n",
       "190142    1949.0\n",
       "190565    1931.0\n",
       "194056    1929.0\n",
       "196558    1947.0\n",
       "197386    1938.0\n",
       "198888    1924.0\n",
       "206249    1947.0\n",
       "208819    1949.0\n",
       "211496    1926.0\n",
       "Name: age, dtype: float64"
      ]
     },
     "execution_count": 160,
     "metadata": {},
     "output_type": "execute_result"
    }
   ],
   "source": [
    "train[train.age > 122].age"
   ]
  },
  {
   "cell_type": "markdown",
   "metadata": {},
   "source": [
    "除了150和132这俩个数据比较特殊外，其他的数据像是出生年份，我们用Train中平均注册年份2012来减去这异常值，还原年龄。"
   ]
  },
  {
   "cell_type": "code",
   "execution_count": 161,
   "metadata": {},
   "outputs": [
    {
     "name": "stderr",
     "output_type": "stream",
     "text": [
      "C:\\ProgramData\\Anaconda3\\lib\\site-packages\\ipykernel_launcher.py:1: SettingWithCopyWarning: \n",
      "A value is trying to be set on a copy of a slice from a DataFrame\n",
      "\n",
      "See the caveats in the documentation: http://pandas.pydata.org/pandas-docs/stable/user_guide/indexing.html#returning-a-view-versus-a-copy\n",
      "  \"\"\"Entry point for launching an IPython kernel.\n"
     ]
    }
   ],
   "source": [
    "train.age[train.age>122]= train.age[train.age>122].apply(lambda x:2012-x)"
   ]
  },
  {
   "cell_type": "markdown",
   "metadata": {},
   "source": [
    "对于test数据用类似的方法，数据产生的日期年份（2014年)减去这一类异常值，还原年龄："
   ]
  },
  {
   "cell_type": "code",
   "execution_count": 162,
   "metadata": {
    "scrolled": true
   },
   "outputs": [
    {
     "name": "stderr",
     "output_type": "stream",
     "text": [
      "C:\\ProgramData\\Anaconda3\\lib\\site-packages\\ipykernel_launcher.py:1: SettingWithCopyWarning: \n",
      "A value is trying to be set on a copy of a slice from a DataFrame\n",
      "\n",
      "See the caveats in the documentation: http://pandas.pydata.org/pandas-docs/stable/user_guide/indexing.html#returning-a-view-versus-a-copy\n",
      "  \"\"\"Entry point for launching an IPython kernel.\n"
     ]
    }
   ],
   "source": [
    "test.age[test.age>122]= test.age[test.age>122].apply(lambda x:2014-x)"
   ]
  },
  {
   "cell_type": "markdown",
   "metadata": {},
   "source": [
    "看一下小于18岁的异常值："
   ]
  },
  {
   "cell_type": "code",
   "execution_count": 163,
   "metadata": {
    "scrolled": true
   },
   "outputs": [
    {
     "name": "stdout",
     "output_type": "stream",
     "text": [
      "count    160.000000\n",
      "mean      12.181250\n",
      "std        5.927096\n",
      "min        1.000000\n",
      "25%        5.000000\n",
      "50%       16.000000\n",
      "75%       17.000000\n",
      "max       17.000000\n",
      "Name: age, dtype: float64\n"
     ]
    }
   ],
   "source": [
    "print(train[train.age <18]['age'].describe())"
   ]
  },
  {
   "cell_type": "code",
   "execution_count": 164,
   "metadata": {
    "scrolled": true
   },
   "outputs": [
    {
     "name": "stdout",
     "output_type": "stream",
     "text": [
      "count    37.000000\n",
      "mean     14.972973\n",
      "std       3.692985\n",
      "min       1.000000\n",
      "25%      15.000000\n",
      "50%      16.000000\n",
      "75%      17.000000\n",
      "max      17.000000\n",
      "Name: age, dtype: float64\n"
     ]
    }
   ],
   "source": [
    "print(test[test.age <18]['age'].describe())"
   ]
  },
  {
   "cell_type": "markdown",
   "metadata": {},
   "source": [
    "从train和test数据表示16岁以上订房人群在平台或许是被准许的，所以我们可以把区间订的下限再降低一些。\n",
    "我们可以根据常识再最后把年龄数据大于95，小于13的转换为空值："
   ]
  },
  {
   "cell_type": "code",
   "execution_count": 165,
   "metadata": {},
   "outputs": [],
   "source": [
    "train.loc[train.age > 95, 'age'] = np.nan\n",
    "train.loc[train.age < 13, 'age'] = np.nan\n",
    "test.loc[test.age > 95, 'age'] = np.nan\n",
    "test.loc[test.age < 13, 'age'] = np.nan"
   ]
  },
  {
   "cell_type": "markdown",
   "metadata": {},
   "source": [
    "我们将处理好的Age年龄数据可视化一下，看一下分布情况："
   ]
  },
  {
   "cell_type": "code",
   "execution_count": 166,
   "metadata": {},
   "outputs": [
    {
     "data": {
      "image/png": "[encoded data removed]",
      "text/plain": [
       "<Figure size 1440x432 with 2 Axes>"
      ]
     },
     "metadata": {},
     "output_type": "display_data"
    }
   ],
   "source": [
    "sns.set_style('ticks')\n",
    "plt.figure(figsize=(20, 6))\n",
    "plt.subplot(1,2,1)\n",
    "sns.distplot(train.age.dropna(), color='#FD5C64')\n",
    "plt.xlabel('Train Age')\n",
    "sns.despine()\n",
    "plt.subplot(1,2,2)\n",
    "sns.distplot(test.age.dropna(), color='#055A5B')\n",
    "plt.xlabel('Test Age')\n",
    "sns.despine()"
   ]
  },
  {
   "cell_type": "markdown",
   "metadata": {},
   "source": [
    "从上图可以看出明显订房年龄在25岁到40岁中间人数最多。那么我们再看一下年轻人和老年人是否对于目的地有所不同呢？我们用45岁来区别一下老年人和年轻人："
   ]
  },
  {
   "cell_type": "code",
   "execution_count": 167,
   "metadata": {},
   "outputs": [
    {
     "data": {
      "image/png": "[encoded data removed]",
      "text/plain": [
       "<Figure size 720x432 with 1 Axes>"
      ]
     },
     "metadata": {},
     "output_type": "display_data"
    }
   ],
   "source": [
    "age = 45\n",
    "width = 0.4\n",
    "plt.figure(figsize=(10, 6))\n",
    "\n",
    "younger = sum(train.loc[train['age'] < age, 'country_destination'].value_counts())\n",
    "older = sum(train.loc[train['age'] > age, 'country_destination'].value_counts())\n",
    "\n",
    "younger_destinations = train.loc[train['age'] < age, 'country_destination'].value_counts()/younger * 100\n",
    "older_destinations = train.loc[train['age'] > age, 'country_destination'].value_counts()/older * 100\n",
    "\n",
    "younger_destinations.plot(kind='bar',width = 0.4, color='#20AD65', position=0, label='Youngers', rot=0) \n",
    "older_destinations.plot(kind='bar', width = 0.4,color='#3A745F', position=1, label='Olders', rot=0)\n",
    "\n",
    "plt.legend()\n",
    "plt.xlabel('Destination Country')\n",
    "plt.ylabel('Percentage')\n",
    "\n",
    "sns.despine()\n",
    "plt.show()"
   ]
  },
  {
   "cell_type": "code",
   "execution_count": 168,
   "metadata": {},
   "outputs": [
    {
     "name": "stdout",
     "output_type": "stream",
     "text": [
      "False    122995\n",
      "True      90456\n",
      "Name: age, dtype: int64\n",
      "False    32907\n",
      "True     29189\n",
      "Name: age, dtype: int64\n"
     ]
    }
   ],
   "source": [
    "print(train.age.isnull().value_counts())\n",
    "print(test.age.isnull().value_counts())"
   ]
  },
  {
   "cell_type": "markdown",
   "metadata": {},
   "source": [
    "按照45岁来区分的话，可以看出年轻人更多选择在美国旅行，老人出国旅行的意愿更强烈。但是我们还是要记得在年龄数据中大概有45%的空值。"
   ]
  },
  {
   "cell_type": "markdown",
   "metadata": {},
   "source": [
    "##### Signup_method(注册方式)"
   ]
  },
  {
   "cell_type": "code",
   "execution_count": 169,
   "metadata": {},
   "outputs": [
    {
     "name": "stdout",
     "output_type": "stream",
     "text": [
      "basic       152897\n",
      "facebook     60008\n",
      "google         546\n",
      "Name: signup_method, dtype: int64\n",
      "basic       45325\n",
      "facebook    14856\n",
      "google       1892\n",
      "weibo          23\n",
      "Name: signup_method, dtype: int64\n"
     ]
    }
   ],
   "source": [
    "print(train.signup_method.value_counts())\n",
    "print(test.signup_method.value_counts())"
   ]
  },
  {
   "cell_type": "markdown",
   "metadata": {},
   "source": [
    "关于注册方式明显是一个分类的feature，看出大多数是basic，自建站的意思，我们可视化一下："
   ]
  },
  {
   "cell_type": "code",
   "execution_count": 170,
   "metadata": {},
   "outputs": [
    {
     "data": {
      "text/plain": [
       "<matplotlib.axes._subplots.AxesSubplot at 0x219677d58d0>"
      ]
     },
     "execution_count": 170,
     "metadata": {},
     "output_type": "execute_result"
    },
    {
     "data": {
      "image/png": "[encoded data removed]",
      "text/plain": [
       "<Figure size 720x432 with 2 Axes>"
      ]
     },
     "metadata": {},
     "output_type": "display_data"
    }
   ],
   "source": [
    "plt.figure(figsize=(10, 6))\n",
    "\n",
    "plt.subplot(1,2,1)\n",
    "train.signup_method.value_counts().plot(kind='bar',color='#FB9B2A')\n",
    "\n",
    "plt.subplot(1,2,2)\n",
    "test.signup_method.value_counts().plot(kind='bar',color='#674B74')"
   ]
  },
  {
   "cell_type": "markdown",
   "metadata": {},
   "source": [
    "weibo 应该是中国注册的，其余这一feature没有缺失值，也没有异常值。"
   ]
  },
  {
   "cell_type": "markdown",
   "metadata": {},
   "source": [
    "##### Signup_flow(注册页面)"
   ]
  },
  {
   "cell_type": "code",
   "execution_count": 171,
   "metadata": {},
   "outputs": [
    {
     "name": "stdout",
     "output_type": "stream",
     "text": [
      "0     164739\n",
      "25     14659\n",
      "12      9329\n",
      "3       8822\n",
      "2       6881\n",
      "24      4328\n",
      "23      2835\n",
      "1       1047\n",
      "6        301\n",
      "8        240\n",
      "21       196\n",
      "5         36\n",
      "20        14\n",
      "16        11\n",
      "15        10\n",
      "10         2\n",
      "4          1\n",
      "Name: signup_flow, dtype: int64\n",
      "0     41353\n",
      "25    15175\n",
      "23     3573\n",
      "12     1915\n",
      "8        75\n",
      "14        4\n",
      "21        1\n",
      "Name: signup_flow, dtype: int64\n"
     ]
    }
   ],
   "source": [
    "print(train.signup_flow.value_counts())\n",
    "print(test.signup_flow.value_counts())"
   ]
  },
  {
   "cell_type": "markdown",
   "metadata": {},
   "source": [
    "我们能看到用户从各个不同的页面进入到注册页面进行注册的，有很多个类别，大多数是代号‘0’的页面。"
   ]
  },
  {
   "cell_type": "code",
   "execution_count": 172,
   "metadata": {},
   "outputs": [
    {
     "data": {
      "text/plain": [
       "<matplotlib.axes._subplots.AxesSubplot at 0x21967b58da0>"
      ]
     },
     "execution_count": 172,
     "metadata": {},
     "output_type": "execute_result"
    },
    {
     "data": {
      "image/png": "[encoded data removed]",
      "text/plain": [
       "<Figure size 720x432 with 2 Axes>"
      ]
     },
     "metadata": {},
     "output_type": "display_data"
    }
   ],
   "source": [
    "plt.figure(figsize=(10, 6))\n",
    "\n",
    "plt.subplot(1,2,1)\n",
    "train.signup_flow.value_counts().plot(kind='bar',color='#FB9B2A')\n",
    "\n",
    "plt.subplot(1,2,2)\n",
    "test.signup_flow.value_counts().plot(kind='bar',color='#674B74')"
   ]
  },
  {
   "cell_type": "markdown",
   "metadata": {},
   "source": [
    "##### Language(语言)"
   ]
  },
  {
   "cell_type": "code",
   "execution_count": 173,
   "metadata": {
    "scrolled": true
   },
   "outputs": [
    {
     "name": "stdout",
     "output_type": "stream",
     "text": [
      "en    206314\n",
      "zh      1632\n",
      "fr      1172\n",
      "es       915\n",
      "ko       747\n",
      "de       732\n",
      "it       514\n",
      "ru       389\n",
      "pt       240\n",
      "ja       225\n",
      "sv       122\n",
      "nl        97\n",
      "tr        64\n",
      "da        58\n",
      "pl        54\n",
      "cs        32\n",
      "no        30\n",
      "el        24\n",
      "th        24\n",
      "id        22\n",
      "hu        18\n",
      "fi        14\n",
      "is         5\n",
      "ca         5\n",
      "hr         2\n",
      "Name: language, dtype: int64\n",
      "en           59224\n",
      "zh            1002\n",
      "ko             369\n",
      "fr             336\n",
      "es             259\n",
      "de             245\n",
      "ja             120\n",
      "it             119\n",
      "ru             119\n",
      "pt              82\n",
      "sv              54\n",
      "nl              37\n",
      "tr              28\n",
      "pl              21\n",
      "no              21\n",
      "cs              17\n",
      "da              17\n",
      "hu               7\n",
      "fi               6\n",
      "el               6\n",
      "th               4\n",
      "-unknown-        1\n",
      "id               1\n",
      "ca               1\n",
      "Name: language, dtype: int64\n"
     ]
    }
   ],
   "source": [
    "print(train.language.value_counts())\n",
    "print(test.language.value_counts())"
   ]
  },
  {
   "cell_type": "markdown",
   "metadata": {},
   "source": [
    "既然想要预测客户在哪里订房，语言这一特征必然起到很大作用，我们可以看一下。"
   ]
  },
  {
   "cell_type": "code",
   "execution_count": 174,
   "metadata": {},
   "outputs": [
    {
     "data": {
      "text/plain": [
       "<matplotlib.axes._subplots.AxesSubplot at 0x21967c7ccf8>"
      ]
     },
     "execution_count": 174,
     "metadata": {},
     "output_type": "execute_result"
    },
    {
     "data": {
      "image/png": "[encoded data removed]",
      "text/plain": [
       "<Figure size 1080x432 with 2 Axes>"
      ]
     },
     "metadata": {},
     "output_type": "display_data"
    }
   ],
   "source": [
    "plt.figure(figsize=(15, 6))\n",
    "\n",
    "plt.subplot(1,2,1)\n",
    "train.language.value_counts().plot(kind='bar',color='#FB9B2A')\n",
    "\n",
    "plt.subplot(1,2,2)\n",
    "test.language.value_counts().plot(kind='bar',color='#674B74')"
   ]
  },
  {
   "cell_type": "markdown",
   "metadata": {},
   "source": [
    "基本上大多数是使用英语，这也在我们意料之中，毕竟Airbnb在United Stated本国推广程度更高一些。"
   ]
  },
  {
   "cell_type": "markdown",
   "metadata": {},
   "source": [
    "##### Affiliate_Channel (付费市场渠道）"
   ]
  },
  {
   "cell_type": "code",
   "execution_count": 175,
   "metadata": {},
   "outputs": [
    {
     "name": "stdout",
     "output_type": "stream",
     "text": [
      "direct           137727\n",
      "sem-brand         26045\n",
      "sem-non-brand     18844\n",
      "other              8961\n",
      "seo                8663\n",
      "api                8167\n",
      "content            3948\n",
      "remarketing        1096\n",
      "Name: affiliate_channel, dtype: int64\n",
      "direct           43844\n",
      "sem-brand        10394\n",
      "seo               5699\n",
      "sem-non-brand     1231\n",
      "other              586\n",
      "remarketing        172\n",
      "content            170\n",
      "Name: affiliate_channel, dtype: int64\n"
     ]
    }
   ],
   "source": [
    "print(train.affiliate_channel.value_counts())\n",
    "print(test.affiliate_channel.value_counts())"
   ]
  },
  {
   "cell_type": "code",
   "execution_count": 176,
   "metadata": {},
   "outputs": [
    {
     "data": {
      "text/plain": [
       "<matplotlib.axes._subplots.AxesSubplot at 0x21966959978>"
      ]
     },
     "execution_count": 176,
     "metadata": {},
     "output_type": "execute_result"
    },
    {
     "data": {
      "image/png": "[encoded data removed]",
      "text/plain": [
       "<Figure size 1080x432 with 2 Axes>"
      ]
     },
     "metadata": {},
     "output_type": "display_data"
    }
   ],
   "source": [
    "plt.figure(figsize=(15, 6))\n",
    "\n",
    "plt.subplot(1,2,1)\n",
    "train.affiliate_channel.value_counts().plot(kind='bar',color='#FB9B2A')\n",
    "\n",
    "plt.subplot(1,2,2)\n",
    "test.affiliate_channel.value_counts().plot(kind='bar',color='#674B74')"
   ]
  },
  {
   "cell_type": "markdown",
   "metadata": {},
   "source": [
    "各种引流渠道中，大多数是直接的用户引流过来的"
   ]
  },
  {
   "cell_type": "markdown",
   "metadata": {},
   "source": [
    "##### Affiliate_Provider (付费市场渠道名称）"
   ]
  },
  {
   "cell_type": "code",
   "execution_count": 177,
   "metadata": {
    "scrolled": true
   },
   "outputs": [
    {
     "name": "stdout",
     "output_type": "stream",
     "text": [
      "direct                 137426\n",
      "google                  51693\n",
      "other                   12549\n",
      "craigslist               3471\n",
      "bing                     2328\n",
      "facebook                 2273\n",
      "vast                      829\n",
      "padmapper                 768\n",
      "facebook-open-graph       545\n",
      "yahoo                     496\n",
      "gsp                       453\n",
      "meetup                    347\n",
      "email-marketing           166\n",
      "naver                      52\n",
      "baidu                      29\n",
      "yandex                     17\n",
      "wayn                        8\n",
      "daum                        1\n",
      "Name: affiliate_provider, dtype: int64\n",
      "direct                 43844\n",
      "google                 14263\n",
      "facebook                1723\n",
      "bing                    1391\n",
      "other                    487\n",
      "yahoo                    157\n",
      "email-marketing          104\n",
      "padmapper                 68\n",
      "facebook-open-graph       21\n",
      "naver                     14\n",
      "meetup                    11\n",
      "craigslist                 4\n",
      "baidu                      3\n",
      "daum                       2\n",
      "gsp                        2\n",
      "vast                       1\n",
      "yandex                     1\n",
      "Name: affiliate_provider, dtype: int64\n"
     ]
    }
   ],
   "source": [
    "print(train.affiliate_provider.value_counts())\n",
    "print(test.affiliate_provider.value_counts())"
   ]
  },
  {
   "cell_type": "code",
   "execution_count": 178,
   "metadata": {},
   "outputs": [
    {
     "data": {
      "text/plain": [
       "<matplotlib.axes._subplots.AxesSubplot at 0x2196687fcf8>"
      ]
     },
     "execution_count": 178,
     "metadata": {},
     "output_type": "execute_result"
    },
    {
     "data": {
      "image/png": "[encoded data removed]",
      "text/plain": [
       "<Figure size 1080x432 with 2 Axes>"
      ]
     },
     "metadata": {},
     "output_type": "display_data"
    }
   ],
   "source": [
    "plt.figure(figsize=(15, 6))\n",
    "\n",
    "plt.subplot(1,2,1)\n",
    "train.affiliate_provider.value_counts().plot(kind='bar',color='#FB9B2A')\n",
    "\n",
    "plt.subplot(1,2,2)\n",
    "test.affiliate_provider.value_counts().plot(kind='bar',color='#674B74')"
   ]
  },
  {
   "cell_type": "markdown",
   "metadata": {},
   "source": [
    "除了直接过来的客户外，google引流渠道的效果很不错"
   ]
  },
  {
   "cell_type": "markdown",
   "metadata": {},
   "source": [
    "##### First_Affiliate_Tracked (注册前第一个接触的市场渠道）"
   ]
  },
  {
   "cell_type": "code",
   "execution_count": 179,
   "metadata": {},
   "outputs": [
    {
     "data": {
      "text/plain": [
       "6065"
      ]
     },
     "execution_count": 179,
     "metadata": {},
     "output_type": "execute_result"
    }
   ],
   "source": [
    "train.first_affiliate_tracked.isnull().sum()"
   ]
  },
  {
   "cell_type": "code",
   "execution_count": 180,
   "metadata": {},
   "outputs": [
    {
     "data": {
      "text/plain": [
       "20"
      ]
     },
     "execution_count": 180,
     "metadata": {},
     "output_type": "execute_result"
    }
   ],
   "source": [
    "test.first_affiliate_tracked.isnull().sum()"
   ]
  },
  {
   "cell_type": "markdown",
   "metadata": {},
   "source": [
    "有一些空值在这个feature里面"
   ]
  },
  {
   "cell_type": "code",
   "execution_count": 181,
   "metadata": {
    "scrolled": true
   },
   "outputs": [
    {
     "name": "stdout",
     "output_type": "stream",
     "text": [
      "untracked        109232\n",
      "linked            46287\n",
      "omg               43982\n",
      "tracked-other      6156\n",
      "product            1556\n",
      "marketing           139\n",
      "local ops            34\n",
      "Name: first_affiliate_tracked, dtype: int64\n",
      "untracked        33949\n",
      "linked           15777\n",
      "omg              10877\n",
      "product            797\n",
      "tracked-other      499\n",
      "marketing          142\n",
      "local ops           35\n",
      "Name: first_affiliate_tracked, dtype: int64\n"
     ]
    }
   ],
   "source": [
    "print(train.first_affiliate_tracked.value_counts())\n",
    "print(test.first_affiliate_tracked.value_counts())"
   ]
  },
  {
   "cell_type": "code",
   "execution_count": 182,
   "metadata": {},
   "outputs": [
    {
     "data": {
      "text/plain": [
       "<matplotlib.axes._subplots.AxesSubplot at 0x21966fc1518>"
      ]
     },
     "execution_count": 182,
     "metadata": {},
     "output_type": "execute_result"
    },
    {
     "data": {
      "image/png": "[encoded data removed]",
      "text/plain": [
       "<Figure size 1080x432 with 2 Axes>"
      ]
     },
     "metadata": {},
     "output_type": "display_data"
    }
   ],
   "source": [
    "plt.figure(figsize=(15, 6))\n",
    "\n",
    "plt.subplot(1,2,1)\n",
    "train.first_affiliate_tracked.value_counts().plot(kind='bar',color='#FB9B2A')\n",
    "\n",
    "plt.subplot(1,2,2)\n",
    "test.first_affiliate_tracked.value_counts().plot(kind='bar',color='#674B74')"
   ]
  },
  {
   "cell_type": "markdown",
   "metadata": {},
   "source": [
    "没接触过占大多数，其余的在lined（领英）上获取消息的比较多。"
   ]
  },
  {
   "cell_type": "markdown",
   "metadata": {},
   "source": [
    "##### Signup_App(注册APP）"
   ]
  },
  {
   "cell_type": "code",
   "execution_count": 183,
   "metadata": {},
   "outputs": [
    {
     "name": "stdout",
     "output_type": "stream",
     "text": [
      "Web        182717\n",
      "iOS         19019\n",
      "Moweb        6261\n",
      "Android      5454\n",
      "Name: signup_app, dtype: int64\n",
      "Web        37201\n",
      "iOS        15574\n",
      "Android     5065\n",
      "Moweb       4256\n",
      "Name: signup_app, dtype: int64\n"
     ]
    }
   ],
   "source": [
    "print(train.signup_app.value_counts())\n",
    "print(test.signup_app.value_counts())"
   ]
  },
  {
   "cell_type": "code",
   "execution_count": 184,
   "metadata": {},
   "outputs": [
    {
     "data": {
      "text/plain": [
       "<matplotlib.axes._subplots.AxesSubplot at 0x21966f88eb8>"
      ]
     },
     "execution_count": 184,
     "metadata": {},
     "output_type": "execute_result"
    },
    {
     "data": {
      "image/png": "[encoded data removed]",
      "text/plain": [
       "<Figure size 1080x432 with 2 Axes>"
      ]
     },
     "metadata": {},
     "output_type": "display_data"
    }
   ],
   "source": [
    "plt.figure(figsize=(15, 6))\n",
    "\n",
    "plt.subplot(1,2,1)\n",
    "train.signup_app.value_counts().plot(kind='bar',color='#FB9B2A')\n",
    "\n",
    "plt.subplot(1,2,2)\n",
    "test.signup_app.value_counts().plot(kind='bar',color='#674B74')"
   ]
  },
  {
   "cell_type": "markdown",
   "metadata": {},
   "source": [
    "可以发现大多数使用Web端登陆的。"
   ]
  },
  {
   "cell_type": "markdown",
   "metadata": {},
   "source": [
    "##### First_Device_Type(设备类型）"
   ]
  },
  {
   "cell_type": "code",
   "execution_count": 185,
   "metadata": {},
   "outputs": [
    {
     "name": "stdout",
     "output_type": "stream",
     "text": [
      "Mac Desktop           89600\n",
      "Windows Desktop       72716\n",
      "iPhone                20759\n",
      "iPad                  14339\n",
      "Other/Unknown         10667\n",
      "Android Phone          2803\n",
      "Android Tablet         1292\n",
      "Desktop (Other)        1199\n",
      "SmartPhone (Other)       76\n",
      "Name: first_device_type, dtype: int64\n",
      "iPhone                19055\n",
      "Mac Desktop           16728\n",
      "Windows Desktop       14232\n",
      "Android Phone          6655\n",
      "iPad                   3697\n",
      "Android Tablet          806\n",
      "Other/Unknown           500\n",
      "Desktop (Other)         308\n",
      "SmartPhone (Other)      115\n",
      "Name: first_device_type, dtype: int64\n"
     ]
    }
   ],
   "source": [
    "print(train.first_device_type.value_counts())\n",
    "print(test.first_device_type.value_counts())"
   ]
  },
  {
   "cell_type": "code",
   "execution_count": 186,
   "metadata": {},
   "outputs": [
    {
     "data": {
      "text/plain": [
       "<matplotlib.axes._subplots.AxesSubplot at 0x21958fc7b00>"
      ]
     },
     "execution_count": 186,
     "metadata": {},
     "output_type": "execute_result"
    },
    {
     "data": {
      "image/png": "[encoded data removed]",
      "text/plain": [
       "<Figure size 1080x432 with 2 Axes>"
      ]
     },
     "metadata": {},
     "output_type": "display_data"
    }
   ],
   "source": [
    "plt.figure(figsize=(15, 6))\n",
    "\n",
    "plt.subplot(1,2,1)\n",
    "train.first_device_type.value_counts().plot(kind='bar',color='#FB9B2A')\n",
    "\n",
    "plt.subplot(1,2,2)\n",
    "test.first_device_type.value_counts().plot(kind='bar',color='#674B74')"
   ]
  },
  {
   "cell_type": "markdown",
   "metadata": {},
   "source": [
    "台式苹果的使用度比较高，而且苹果系列产品使用情况都挺高的"
   ]
  },
  {
   "cell_type": "markdown",
   "metadata": {},
   "source": [
    "##### First_Browser (浏览器类型）"
   ]
  },
  {
   "cell_type": "code",
   "execution_count": 187,
   "metadata": {
    "scrolled": true
   },
   "outputs": [
    {
     "name": "stdout",
     "output_type": "stream",
     "text": [
      "Chrome                  63845\n",
      "Safari                  45169\n",
      "Firefox                 33655\n",
      "-unknown-               27266\n",
      "IE                      21068\n",
      "Mobile Safari           19274\n",
      "Chrome Mobile            1270\n",
      "Android Browser           851\n",
      "AOL Explorer              245\n",
      "Opera                     188\n",
      "Silk                      124\n",
      "Chromium                   73\n",
      "BlackBerry Browser         53\n",
      "Maxthon                    46\n",
      "Apple Mail                 36\n",
      "IE Mobile                  36\n",
      "Sogou Explorer             33\n",
      "Mobile Firefox             30\n",
      "SiteKiosk                  24\n",
      "RockMelt                   24\n",
      "Iron                       17\n",
      "IceWeasel                  13\n",
      "Pale Moon                  12\n",
      "Yandex.Browser             11\n",
      "SeaMonkey                  11\n",
      "CometBird                  11\n",
      "Camino                      9\n",
      "TenFourFox                  8\n",
      "wOSBrowser                  6\n",
      "CoolNovo                    6\n",
      "Opera Mini                  4\n",
      "Avant Browser               4\n",
      "Mozilla                     3\n",
      "Comodo Dragon               2\n",
      "SlimBrowser                 2\n",
      "TheWorld Browser            2\n",
      "Crazy Browser               2\n",
      "Opera Mobile                2\n",
      "OmniWeb                     2\n",
      "Flock                       2\n",
      "PS Vita browser             1\n",
      "Arora                       1\n",
      "IceDragon                   1\n",
      "Outlook 2007                1\n",
      "Palm Pre web browser        1\n",
      "Kindle Browser              1\n",
      "NetNewsWire                 1\n",
      "Conkeror                    1\n",
      "Google Earth                1\n",
      "Stainless                   1\n",
      "Epic                        1\n",
      "Googlebot                   1\n",
      "Name: first_browser, dtype: int64\n",
      "-unknown-             17128\n",
      "Chrome                14826\n",
      "Mobile Safari         10362\n",
      "Safari                 8133\n",
      "Firefox                5010\n",
      "IE                     3676\n",
      "Chrome Mobile          1916\n",
      "Android Browser         726\n",
      "IE Mobile                82\n",
      "Silk                     48\n",
      "Opera                    40\n",
      "BlackBerry Browser       36\n",
      "Mobile Firefox           34\n",
      "Maxthon                  14\n",
      "Sogou Explorer           10\n",
      "Chromium                 10\n",
      "AOL Explorer              9\n",
      "Apple Mail                9\n",
      "Iron                      7\n",
      "Opera Mini                4\n",
      "SiteKiosk                 3\n",
      "Yandex.Browser            3\n",
      "Opera Mobile              2\n",
      "IBrowse                   1\n",
      "wOSBrowser                1\n",
      "SeaMonkey                 1\n",
      "CometBird                 1\n",
      "Nintendo Browser          1\n",
      "IceWeasel                 1\n",
      "UC Browser                1\n",
      "Pale Moon                 1\n",
      "Name: first_browser, dtype: int64\n"
     ]
    }
   ],
   "source": [
    "print(train.first_browser.value_counts())\n",
    "print(test.first_browser.value_counts())"
   ]
  },
  {
   "cell_type": "code",
   "execution_count": 188,
   "metadata": {},
   "outputs": [
    {
     "data": {
      "text/plain": [
       "<matplotlib.axes._subplots.AxesSubplot at 0x2196792f518>"
      ]
     },
     "execution_count": 188,
     "metadata": {},
     "output_type": "execute_result"
    },
    {
     "data": {
      "image/png": "[encoded data removed]",
      "text/plain": [
       "<Figure size 1440x360 with 2 Axes>"
      ]
     },
     "metadata": {},
     "output_type": "display_data"
    }
   ],
   "source": [
    "plt.figure(figsize=(20, 5))\n",
    "plt.subplot(1,2,1)\n",
    "train.first_browser.value_counts().plot(kind='bar',color='#FB9B2A')\n",
    "\n",
    "plt.subplot(1,2,2)\n",
    "test.first_browser.value_counts().plot(kind='bar',color='#674B74')"
   ]
  },
  {
   "cell_type": "markdown",
   "metadata": {},
   "source": [
    "我们这个train.csv数据探索结束后，我们来看一下sessions文件的数据情况："
   ]
  },
  {
   "cell_type": "code",
   "execution_count": 189,
   "metadata": {},
   "outputs": [
    {
     "data": {
      "text/html": [
       "<div>\n",
       "<style scoped>\n",
       "    .dataframe tbody tr th:only-of-type {\n",
       "        vertical-align: middle;\n",
       "    }\n",
       "\n",
       "    .dataframe tbody tr th {\n",
       "        vertical-align: top;\n",
       "    }\n",
       "\n",
       "    .dataframe thead th {\n",
       "        text-align: right;\n",
       "    }\n",
       "</style>\n",
       "<table border=\"1\" class=\"dataframe\">\n",
       "  <thead>\n",
       "    <tr style=\"text-align: right;\">\n",
       "      <th></th>\n",
       "      <th>id</th>\n",
       "      <th>date_account_created</th>\n",
       "      <th>timestamp_first_active</th>\n",
       "      <th>date_first_booking</th>\n",
       "      <th>gender</th>\n",
       "      <th>age</th>\n",
       "      <th>signup_method</th>\n",
       "      <th>signup_flow</th>\n",
       "      <th>language</th>\n",
       "      <th>affiliate_channel</th>\n",
       "      <th>affiliate_provider</th>\n",
       "      <th>first_affiliate_tracked</th>\n",
       "      <th>signup_app</th>\n",
       "      <th>first_device_type</th>\n",
       "      <th>first_browser</th>\n",
       "      <th>country_destination</th>\n",
       "      <th>date_first_active</th>\n",
       "    </tr>\n",
       "  </thead>\n",
       "  <tbody>\n",
       "    <tr>\n",
       "      <th>0</th>\n",
       "      <td>gxn3p5htnn</td>\n",
       "      <td>2010-06-28</td>\n",
       "      <td>20090319043255</td>\n",
       "      <td>NaN</td>\n",
       "      <td>NaN</td>\n",
       "      <td>NaN</td>\n",
       "      <td>facebook</td>\n",
       "      <td>0</td>\n",
       "      <td>en</td>\n",
       "      <td>direct</td>\n",
       "      <td>direct</td>\n",
       "      <td>untracked</td>\n",
       "      <td>Web</td>\n",
       "      <td>Mac Desktop</td>\n",
       "      <td>Chrome</td>\n",
       "      <td>NDF</td>\n",
       "      <td>2009-03-19</td>\n",
       "    </tr>\n",
       "    <tr>\n",
       "      <th>1</th>\n",
       "      <td>820tgsjxq7</td>\n",
       "      <td>2011-05-25</td>\n",
       "      <td>20090523174809</td>\n",
       "      <td>NaN</td>\n",
       "      <td>MALE</td>\n",
       "      <td>38.0</td>\n",
       "      <td>facebook</td>\n",
       "      <td>0</td>\n",
       "      <td>en</td>\n",
       "      <td>seo</td>\n",
       "      <td>google</td>\n",
       "      <td>untracked</td>\n",
       "      <td>Web</td>\n",
       "      <td>Mac Desktop</td>\n",
       "      <td>Chrome</td>\n",
       "      <td>NDF</td>\n",
       "      <td>2009-05-23</td>\n",
       "    </tr>\n",
       "    <tr>\n",
       "      <th>2</th>\n",
       "      <td>4ft3gnwmtx</td>\n",
       "      <td>2010-09-28</td>\n",
       "      <td>20090609231247</td>\n",
       "      <td>2010-08-02</td>\n",
       "      <td>FEMALE</td>\n",
       "      <td>56.0</td>\n",
       "      <td>basic</td>\n",
       "      <td>3</td>\n",
       "      <td>en</td>\n",
       "      <td>direct</td>\n",
       "      <td>direct</td>\n",
       "      <td>untracked</td>\n",
       "      <td>Web</td>\n",
       "      <td>Windows Desktop</td>\n",
       "      <td>IE</td>\n",
       "      <td>US</td>\n",
       "      <td>2009-06-09</td>\n",
       "    </tr>\n",
       "    <tr>\n",
       "      <th>3</th>\n",
       "      <td>bjjt8pjhuk</td>\n",
       "      <td>2011-12-05</td>\n",
       "      <td>20091031060129</td>\n",
       "      <td>2012-09-08</td>\n",
       "      <td>FEMALE</td>\n",
       "      <td>42.0</td>\n",
       "      <td>facebook</td>\n",
       "      <td>0</td>\n",
       "      <td>en</td>\n",
       "      <td>direct</td>\n",
       "      <td>direct</td>\n",
       "      <td>untracked</td>\n",
       "      <td>Web</td>\n",
       "      <td>Mac Desktop</td>\n",
       "      <td>Firefox</td>\n",
       "      <td>other</td>\n",
       "      <td>2009-10-31</td>\n",
       "    </tr>\n",
       "    <tr>\n",
       "      <th>4</th>\n",
       "      <td>87mebub9p4</td>\n",
       "      <td>2010-09-14</td>\n",
       "      <td>20091208061105</td>\n",
       "      <td>2010-02-18</td>\n",
       "      <td>NaN</td>\n",
       "      <td>41.0</td>\n",
       "      <td>basic</td>\n",
       "      <td>0</td>\n",
       "      <td>en</td>\n",
       "      <td>direct</td>\n",
       "      <td>direct</td>\n",
       "      <td>untracked</td>\n",
       "      <td>Web</td>\n",
       "      <td>Mac Desktop</td>\n",
       "      <td>Chrome</td>\n",
       "      <td>US</td>\n",
       "      <td>2009-12-08</td>\n",
       "    </tr>\n",
       "  </tbody>\n",
       "</table>\n",
       "</div>"
      ],
      "text/plain": [
       "           id date_account_created  timestamp_first_active date_first_booking  \\\n",
       "0  gxn3p5htnn           2010-06-28          20090319043255                NaN   \n",
       "1  820tgsjxq7           2011-05-25          20090523174809                NaN   \n",
       "2  4ft3gnwmtx           2010-09-28          20090609231247         2010-08-02   \n",
       "3  bjjt8pjhuk           2011-12-05          20091031060129         2012-09-08   \n",
       "4  87mebub9p4           2010-09-14          20091208061105         2010-02-18   \n",
       "\n",
       "   gender   age signup_method  signup_flow language affiliate_channel  \\\n",
       "0     NaN   NaN      facebook            0       en            direct   \n",
       "1    MALE  38.0      facebook            0       en               seo   \n",
       "2  FEMALE  56.0         basic            3       en            direct   \n",
       "3  FEMALE  42.0      facebook            0       en            direct   \n",
       "4     NaN  41.0         basic            0       en            direct   \n",
       "\n",
       "  affiliate_provider first_affiliate_tracked signup_app first_device_type  \\\n",
       "0             direct               untracked        Web       Mac Desktop   \n",
       "1             google               untracked        Web       Mac Desktop   \n",
       "2             direct               untracked        Web   Windows Desktop   \n",
       "3             direct               untracked        Web       Mac Desktop   \n",
       "4             direct               untracked        Web       Mac Desktop   \n",
       "\n",
       "  first_browser country_destination date_first_active  \n",
       "0        Chrome                 NDF        2009-03-19  \n",
       "1        Chrome                 NDF        2009-05-23  \n",
       "2            IE                  US        2009-06-09  \n",
       "3       Firefox               other        2009-10-31  \n",
       "4        Chrome                  US        2009-12-08  "
      ]
     },
     "execution_count": 189,
     "metadata": {},
     "output_type": "execute_result"
    }
   ],
   "source": [
    "train.head()"
   ]
  },
  {
   "cell_type": "markdown",
   "metadata": {},
   "source": [
    "## Sessions(用户操作集)文件"
   ]
  },
  {
   "cell_type": "code",
   "execution_count": 190,
   "metadata": {},
   "outputs": [],
   "source": [
    "sessions = pd.read_csv('sessions.csv')"
   ]
  },
  {
   "cell_type": "code",
   "execution_count": 191,
   "metadata": {},
   "outputs": [
    {
     "data": {
      "text/html": [
       "<div>\n",
       "<style scoped>\n",
       "    .dataframe tbody tr th:only-of-type {\n",
       "        vertical-align: middle;\n",
       "    }\n",
       "\n",
       "    .dataframe tbody tr th {\n",
       "        vertical-align: top;\n",
       "    }\n",
       "\n",
       "    .dataframe thead th {\n",
       "        text-align: right;\n",
       "    }\n",
       "</style>\n",
       "<table border=\"1\" class=\"dataframe\">\n",
       "  <thead>\n",
       "    <tr style=\"text-align: right;\">\n",
       "      <th></th>\n",
       "      <th>user_id</th>\n",
       "      <th>action</th>\n",
       "      <th>action_type</th>\n",
       "      <th>action_detail</th>\n",
       "      <th>device_type</th>\n",
       "      <th>secs_elapsed</th>\n",
       "    </tr>\n",
       "  </thead>\n",
       "  <tbody>\n",
       "    <tr>\n",
       "      <th>0</th>\n",
       "      <td>d1mm9tcy42</td>\n",
       "      <td>lookup</td>\n",
       "      <td>NaN</td>\n",
       "      <td>NaN</td>\n",
       "      <td>Windows Desktop</td>\n",
       "      <td>319.0</td>\n",
       "    </tr>\n",
       "    <tr>\n",
       "      <th>1</th>\n",
       "      <td>d1mm9tcy42</td>\n",
       "      <td>search_results</td>\n",
       "      <td>click</td>\n",
       "      <td>view_search_results</td>\n",
       "      <td>Windows Desktop</td>\n",
       "      <td>67753.0</td>\n",
       "    </tr>\n",
       "    <tr>\n",
       "      <th>2</th>\n",
       "      <td>d1mm9tcy42</td>\n",
       "      <td>lookup</td>\n",
       "      <td>NaN</td>\n",
       "      <td>NaN</td>\n",
       "      <td>Windows Desktop</td>\n",
       "      <td>301.0</td>\n",
       "    </tr>\n",
       "    <tr>\n",
       "      <th>3</th>\n",
       "      <td>d1mm9tcy42</td>\n",
       "      <td>search_results</td>\n",
       "      <td>click</td>\n",
       "      <td>view_search_results</td>\n",
       "      <td>Windows Desktop</td>\n",
       "      <td>22141.0</td>\n",
       "    </tr>\n",
       "    <tr>\n",
       "      <th>4</th>\n",
       "      <td>jpmpj40cvk</td>\n",
       "      <td>lookup</td>\n",
       "      <td>NaN</td>\n",
       "      <td>NaN</td>\n",
       "      <td>Windows Desktop</td>\n",
       "      <td>957.0</td>\n",
       "    </tr>\n",
       "  </tbody>\n",
       "</table>\n",
       "</div>"
      ],
      "text/plain": [
       "      user_id          action action_type        action_detail  \\\n",
       "0  d1mm9tcy42          lookup         NaN                  NaN   \n",
       "1  d1mm9tcy42  search_results       click  view_search_results   \n",
       "2  d1mm9tcy42          lookup         NaN                  NaN   \n",
       "3  d1mm9tcy42  search_results       click  view_search_results   \n",
       "4  jpmpj40cvk          lookup         NaN                  NaN   \n",
       "\n",
       "       device_type  secs_elapsed  \n",
       "0  Windows Desktop         319.0  \n",
       "1  Windows Desktop       67753.0  \n",
       "2  Windows Desktop         301.0  \n",
       "3  Windows Desktop       22141.0  \n",
       "4  Windows Desktop         957.0  "
      ]
     },
     "execution_count": 191,
     "metadata": {},
     "output_type": "execute_result"
    }
   ],
   "source": [
    "sessions.head()"
   ]
  },
  {
   "cell_type": "code",
   "execution_count": 192,
   "metadata": {},
   "outputs": [
    {
     "name": "stdout",
     "output_type": "stream",
     "text": [
      "<class 'pandas.core.frame.DataFrame'>\n",
      "RangeIndex: 1048575 entries, 0 to 1048574\n",
      "Data columns (total 6 columns):\n",
      "user_id          1045778 non-null object\n",
      "action           1040702 non-null object\n",
      "action_type      905478 non-null object\n",
      "action_detail    905478 non-null object\n",
      "device_type      1048575 non-null object\n",
      "secs_elapsed     1037508 non-null float64\n",
      "dtypes: float64(1), object(5)\n",
      "memory usage: 48.0+ MB\n"
     ]
    }
   ],
   "source": [
    "sessions.info()"
   ]
  },
  {
   "cell_type": "code",
   "execution_count": 193,
   "metadata": {},
   "outputs": [
    {
     "data": {
      "text/plain": [
       "(1048575, 6)"
      ]
     },
     "execution_count": 193,
     "metadata": {},
     "output_type": "execute_result"
    }
   ],
   "source": [
    "sessions.shape"
   ]
  },
  {
   "cell_type": "code",
   "execution_count": 194,
   "metadata": {},
   "outputs": [
    {
     "data": {
      "text/plain": [
       "user_id            2797\n",
       "action             7873\n",
       "action_type      143097\n",
       "action_detail    143097\n",
       "device_type           0\n",
       "secs_elapsed      11067\n",
       "dtype: int64"
      ]
     },
     "execution_count": 194,
     "metadata": {},
     "output_type": "execute_result"
    }
   ],
   "source": [
    "sessions.isnull().sum()"
   ]
  },
  {
   "cell_type": "markdown",
   "metadata": {},
   "source": [
    "sessions文件中官方说明有6个feature，共有1048575条数据，数据类型方面没有问题；空值方面除了device_type没有空值外，其余的都有一些空值。我们也能看到这份数据是有关用户操作的数据。   \n",
    "各个feature的含义分别是：\n",
    "\n",
    "|feature|含义\n",
    "--|:--:|\n",
    "|user_id|用户的id\n",
    "|action|用户行为\n",
    "|action_type|用户行为类型\n",
    "|action_detail|用户行为细节\n",
    "|device_type|设备类型\n",
    "|secs_elapsed|停留时长"
   ]
  },
  {
   "cell_type": "markdown",
   "metadata": {},
   "source": [
    "##### User_id"
   ]
  },
  {
   "cell_type": "markdown",
   "metadata": {},
   "source": [
    "通过观察数据，我们可以发现有一些id是一样的，那么这个数据集是用户进行每一个操作都会记录下来，所以我们看一下不同的用户数有多少："
   ]
  },
  {
   "cell_type": "code",
   "execution_count": 195,
   "metadata": {},
   "outputs": [
    {
     "data": {
      "text/plain": [
       "15589"
      ]
     },
     "execution_count": 195,
     "metadata": {},
     "output_type": "execute_result"
    }
   ],
   "source": [
    "len(sessions.user_id.unique())"
   ]
  },
  {
   "cell_type": "markdown",
   "metadata": {},
   "source": [
    "记得user_id是有空值的，我们可以把user_id的空值删除掉："
   ]
  },
  {
   "cell_type": "code",
   "execution_count": 196,
   "metadata": {},
   "outputs": [
    {
     "data": {
      "text/plain": [
       "2797"
      ]
     },
     "execution_count": 196,
     "metadata": {},
     "output_type": "execute_result"
    }
   ],
   "source": [
    "sessions.user_id.isnull().sum()"
   ]
  },
  {
   "cell_type": "code",
   "execution_count": 197,
   "metadata": {},
   "outputs": [],
   "source": [
    "sessions.dropna(axis = 0, subset = ['user_id'],inplace= True )"
   ]
  },
  {
   "cell_type": "markdown",
   "metadata": {},
   "source": [
    "100多万条数据，平均每人约67个左右操作的次数，那么我们按照id把数据分组，总结一个每个用户点击次数的feature："
   ]
  },
  {
   "cell_type": "code",
   "execution_count": 198,
   "metadata": {},
   "outputs": [
    {
     "data": {
      "text/html": [
       "<div>\n",
       "<style scoped>\n",
       "    .dataframe tbody tr th:only-of-type {\n",
       "        vertical-align: middle;\n",
       "    }\n",
       "\n",
       "    .dataframe tbody tr th {\n",
       "        vertical-align: top;\n",
       "    }\n",
       "\n",
       "    .dataframe thead th {\n",
       "        text-align: right;\n",
       "    }\n",
       "</style>\n",
       "<table border=\"1\" class=\"dataframe\">\n",
       "  <thead>\n",
       "    <tr style=\"text-align: right;\">\n",
       "      <th></th>\n",
       "      <th>user_id</th>\n",
       "      <th>session_count</th>\n",
       "    </tr>\n",
       "  </thead>\n",
       "  <tbody>\n",
       "    <tr>\n",
       "      <th>0</th>\n",
       "      <td>007gj7kqdk</td>\n",
       "      <td>9</td>\n",
       "    </tr>\n",
       "    <tr>\n",
       "      <th>1</th>\n",
       "      <td>009a40t3dk</td>\n",
       "      <td>26</td>\n",
       "    </tr>\n",
       "    <tr>\n",
       "      <th>2</th>\n",
       "      <td>00allnceb8</td>\n",
       "      <td>1</td>\n",
       "    </tr>\n",
       "    <tr>\n",
       "      <th>3</th>\n",
       "      <td>00e8bokexa</td>\n",
       "      <td>3</td>\n",
       "    </tr>\n",
       "    <tr>\n",
       "      <th>4</th>\n",
       "      <td>00fhpdik5t</td>\n",
       "      <td>27</td>\n",
       "    </tr>\n",
       "    <tr>\n",
       "      <th>...</th>\n",
       "      <td>...</td>\n",
       "      <td>...</td>\n",
       "    </tr>\n",
       "    <tr>\n",
       "      <th>15583</th>\n",
       "      <td>zzqb2sn066</td>\n",
       "      <td>10</td>\n",
       "    </tr>\n",
       "    <tr>\n",
       "      <th>15584</th>\n",
       "      <td>zzrnx9rqi5</td>\n",
       "      <td>26</td>\n",
       "    </tr>\n",
       "    <tr>\n",
       "      <th>15585</th>\n",
       "      <td>zzv8sgicbk</td>\n",
       "      <td>25</td>\n",
       "    </tr>\n",
       "    <tr>\n",
       "      <th>15586</th>\n",
       "      <td>zzvatt4dio</td>\n",
       "      <td>422</td>\n",
       "    </tr>\n",
       "    <tr>\n",
       "      <th>15587</th>\n",
       "      <td>zzywmcn0jv</td>\n",
       "      <td>51</td>\n",
       "    </tr>\n",
       "  </tbody>\n",
       "</table>\n",
       "<p>15588 rows × 2 columns</p>\n",
       "</div>"
      ],
      "text/plain": [
       "          user_id  session_count\n",
       "0      007gj7kqdk              9\n",
       "1      009a40t3dk             26\n",
       "2      00allnceb8              1\n",
       "3      00e8bokexa              3\n",
       "4      00fhpdik5t             27\n",
       "...           ...            ...\n",
       "15583  zzqb2sn066             10\n",
       "15584  zzrnx9rqi5             26\n",
       "15585  zzv8sgicbk             25\n",
       "15586  zzvatt4dio            422\n",
       "15587  zzywmcn0jv             51\n",
       "\n",
       "[15588 rows x 2 columns]"
      ]
     },
     "execution_count": 198,
     "metadata": {},
     "output_type": "execute_result"
    }
   ],
   "source": [
    "df_sess = sessions.groupby(['user_id']).user_id.count().reset_index(name = 'session_count')\n",
    "df_sess"
   ]
  },
  {
   "cell_type": "markdown",
   "metadata": {},
   "source": [
    "##### Action(用户行为)"
   ]
  },
  {
   "cell_type": "code",
   "execution_count": 199,
   "metadata": {
    "scrolled": true
   },
   "outputs": [
    {
     "name": "stdout",
     "output_type": "stream",
     "text": [
      "show                                 209013\n",
      "search_results                       109219\n",
      "personalize                          105386\n",
      "lookup                                88039\n",
      "ajax_refresh_subtotal                 71275\n",
      "index                                 69239\n",
      "similar_listings                      53641\n",
      "update                                38646\n",
      "search                                26486\n",
      "header_userpic                        17294\n",
      "create                                17222\n",
      "track_page_view                       17043\n",
      "active                                15795\n",
      "social_connections                    15239\n",
      "collections                           12699\n",
      "dashboard                              9520\n",
      "calendar_tab_inner2                    9318\n",
      "ajax_check_dates                       8383\n",
      "edit                                   7712\n",
      "confirm_email                          7412\n",
      "ask_question                           6982\n",
      "requested                              6242\n",
      "authenticate                           6015\n",
      "other_hosting_reviews_first            5921\n",
      "show_personalize                       5538\n",
      "ajax_lwlb_contact                      5038\n",
      "unavailabilities                       4702\n",
      "reviews                                4693\n",
      "qt2                                    4525\n",
      "listings                               4320\n",
      "notifications                          3415\n",
      "verify                                 3334\n",
      "travel_plans_current                   2965\n",
      "campaigns                              2938\n",
      "identity                               2845\n",
      "pending                                2844\n",
      "hosting_social_proof                   2508\n",
      "ajax_photo_widget_form_iframe          2424\n",
      "edit_verification                      2287\n",
      "manage_listing                         2127\n",
      "profile_pic                            2126\n",
      "complete_status                        1790\n",
      "my                                     1704\n",
      "kba_update                             1619\n",
      "cancellation_policies                  1592\n",
      "ajax_image_upload                      1560\n",
      "open_graph_setting                     1339\n",
      "apply_reservation                      1272\n",
      "faq                                    1192\n",
      "qt_reply_v2                            1147\n",
      "payment_instruments                    1113\n",
      "account                                1111\n",
      "kba                                    1012\n",
      "connect                                1000\n",
      "populate_help_dropdown                  945\n",
      "set_user                                924\n",
      "faq_category                            903\n",
      "callback                                888\n",
      "phone_number_widget                     874\n",
      "this_hosting_reviews                    814\n",
      "new                                     811\n",
      "references                              809\n",
      "request_new_confirm_email               794\n",
      "jumio_token                             751\n",
      "populate_from_facebook                  746\n",
      "available                               717\n",
      "faq_experiment_ids                      704\n",
      "languages_multiselect                   662\n",
      "delete                                  623\n",
      "reviews_new                             615\n",
      "login_modal                             584\n",
      "ajax_get_referrals_amt                  556\n",
      "click                                   555\n",
      "facebook_auto_login                     550\n",
      "at_checkpoint                           497\n",
      "uptodate                                462\n",
      "jumio_redirect                          446\n",
      "settings                                446\n",
      "domains                                 437\n",
      "payment_methods                         414\n",
      "signup_login                            394\n",
      "signup_modal                            356\n",
      "payout_preferences                      336\n",
      "signature                               327\n",
      "complete                                320\n",
      "tos_confirm                             309\n",
      "decision_tree                           308\n",
      "ajax_statsd                             304\n",
      "12                                      282\n",
      "login                                   275\n",
      "recent_reservations                     272\n",
      "status                                  270\n",
      "tell_a_friend                           247\n",
      "phone_verification_modal                225\n",
      "transaction_history_paginated           221\n",
      "10                                      200\n",
      "qt_with                                 194\n",
      "referrer_status                         189\n",
      "supported                               176\n",
      "update_notifications                    176\n",
      "contact_new                             175\n",
      "add_note                                161\n",
      "popular                                 154\n",
      "create_multiple                         153\n",
      "remove_dashboard_alert                  144\n",
      "other_hosting_reviews                   142\n",
      "pending_tickets                         136\n",
      "listing                                 136\n",
      "itinerary                               127\n",
      "authorize                               127\n",
      "glob                                    119\n",
      "ajax_payout_options_by_country          114\n",
      "transaction_history                     113\n",
      "pay                                     104\n",
      "ajax_payout_edit                        103\n",
      "issue                                    99\n",
      "trust                                    98\n",
      "15                                       95\n",
      "webcam_upload                            93\n",
      "friends_new                              88\n",
      "review_page                              87\n",
      "ajax_get_results                         86\n",
      "recommend                                83\n",
      "email_wishlist                           82\n",
      "image_order                              82\n",
      "privacy                                  76\n",
      "ajax_google_translate_description        74\n",
      "email_share                              73\n",
      "change                                   70\n",
      "payout_update                            70\n",
      "set_password                             68\n",
      "change_currency                          68\n",
      "push_notification_callback               65\n",
      "terms                                    62\n",
      "overview                                 60\n",
      "friends                                  59\n",
      "toggle_archived_thread                   56\n",
      "cancel                                   52\n",
      "position                                 48\n",
      "currencies                               47\n",
      "localization_settings                    47\n",
      "host_summary                             46\n",
      "rate                                     43\n",
      "forgot_password                          42\n",
      "guarantee                                41\n",
      "countries                                40\n",
      "my_listings                              38\n",
      "photography                              38\n",
      "submit_contact                           36\n",
      "11                                       36\n",
      "receipt                                  35\n",
      "guest_booked_elsewhere                   31\n",
      "mobile_landing_page                      29\n",
      "airbnb_picks                             29\n",
      "destroy                                  27\n",
      "ajax_price_and_availability              26\n",
      "press_release                            26\n",
      "clickthrough                             25\n",
      "travel_plans_previous                    24\n",
      "email_itinerary_colorbox                 23\n",
      "upload                                   23\n",
      "terms_and_conditions                     22\n",
      "update_hide_from_search_engines          22\n",
      "salute                                   21\n",
      "requirements                             21\n",
      "detect_fb_session                        21\n",
      "country_options                          20\n",
      "multi_message_attributes                 19\n",
      "toggle_starred_thread                    19\n",
      "update_cached                            18\n",
      "ajax_google_translate                    18\n",
      "recommendations                          17\n",
      "update_friends_display                   16\n",
      "change_password                          14\n",
      "department                               14\n",
      "jumio                                    14\n",
      "badge                                    14\n",
      "reputation                               13\n",
      "add_guests                               13\n",
      "why_host                                 13\n",
      "hospitality_standards                    13\n",
      "place_worth                              12\n",
      "ajax_worth                               12\n",
      "widget                                   11\n",
      "multi_message                            11\n",
      "clear_reservation                        11\n",
      "popular_listing                          11\n",
      "ajax_google_translate_reviews            11\n",
      "host_2013                                10\n",
      "about_us                                 10\n",
      "payoneer_account_redirect                 9\n",
      "invalid_action                            9\n",
      "redirect                                  9\n",
      "request_photography                       8\n",
      "pricing                                   7\n",
      "press_content                             7\n",
      "become_user                               7\n",
      "hospitality                               7\n",
      "multi                                     6\n",
      "city_count                                6\n",
      "apply_code                                6\n",
      "onenight                                  6\n",
      "social                                    5\n",
      "ajax_send_message                         5\n",
      "create_paypal                             5\n",
      "new_session                               5\n",
      "apply                                     5\n",
      "payoneer_signup_complete                  4\n",
      "respond                                   4\n",
      "change_availability                       4\n",
      "ajax_photo_widget                         4\n",
      "zendesk_login_jwt                         4\n",
      "phone_verification                        4\n",
      "google_importer                           4\n",
      "founders                                  4\n",
      "slideshow                                 3\n",
      "press_news                                3\n",
      "message                                   3\n",
      "locations                                 3\n",
      "travel                                    3\n",
      "office_location                           3\n",
      "locale_from_host                          2\n",
      "how_it_works                              2\n",
      "has_profile_pic                           2\n",
      "create_ach                                2\n",
      "load_more                                 2\n",
      "home_safety_landing                       2\n",
      "update_reservation_requirements           2\n",
      "reservation                               2\n",
      "life                                      2\n",
      "media_resources                           1\n",
      "relationship                              1\n",
      "southern-europe                           1\n",
      "guest_billing_receipt                     1\n",
      "maybe_information                         1\n",
      "recommendation_page                       1\n",
      "feed                                      1\n",
      "localized                                 1\n",
      "change_default_payout                     1\n",
      "photography_update                        1\n",
      "satisfy                                   1\n",
      "sublets                                   1\n",
      "wishlists                                 1\n",
      "departments                               1\n",
      "Name: action, dtype: int64\n",
      "count       244.000000\n",
      "mean       4253.762295\n",
      "std       18955.763119\n",
      "min           1.000000\n",
      "25%          11.750000\n",
      "50%          84.500000\n",
      "75%         809.500000\n",
      "max      209013.000000\n",
      "Name: action, dtype: float64\n"
     ]
    }
   ],
   "source": [
    "print(sessions.action.value_counts())\n",
    "print(sessions.action.value_counts().describe())"
   ]
  },
  {
   "cell_type": "markdown",
   "metadata": {},
   "source": [
    "可以看出用户行为细分为很多个类别，有的只有一次操作，这个特征缺少普适性，我们考虑把操作少统一归到一类："
   ]
  },
  {
   "cell_type": "code",
   "execution_count": 200,
   "metadata": {},
   "outputs": [],
   "source": [
    "sessions.action = sessions.action.fillna('NAN')\n",
    "act_freq = 100\n",
    "act = dict(zip(*np.unique(sessions.action, return_counts=True)))\n",
    "sessions.action = sessions.action.apply(lambda x: 'OTHER' if act[x] < act_freq else x)"
   ]
  },
  {
   "cell_type": "markdown",
   "metadata": {},
   "source": [
    "我们试了一下用zip函数把频率小于1的都改名叫'OTHER'，由于原本的action有空值，不好用zip，所以我们把空值标出了'NAN'，我们后续会把其他feature的空值也转换一下。"
   ]
  },
  {
   "cell_type": "code",
   "execution_count": 201,
   "metadata": {},
   "outputs": [
    {
     "data": {
      "text/plain": [
       "show                              209013\n",
       "search_results                    109219\n",
       "personalize                       105386\n",
       "lookup                             88039\n",
       "ajax_refresh_subtotal              71275\n",
       "index                              69239\n",
       "similar_listings                   53641\n",
       "update                             38646\n",
       "search                             26486\n",
       "header_userpic                     17294\n",
       "create                             17222\n",
       "track_page_view                    17043\n",
       "active                             15795\n",
       "social_connections                 15239\n",
       "collections                        12699\n",
       "dashboard                           9520\n",
       "calendar_tab_inner2                 9318\n",
       "ajax_check_dates                    8383\n",
       "NAN                                 7860\n",
       "edit                                7712\n",
       "confirm_email                       7412\n",
       "ask_question                        6982\n",
       "requested                           6242\n",
       "authenticate                        6015\n",
       "other_hosting_reviews_first         5921\n",
       "show_personalize                    5538\n",
       "ajax_lwlb_contact                   5038\n",
       "unavailabilities                    4702\n",
       "reviews                             4693\n",
       "qt2                                 4525\n",
       "listings                            4320\n",
       "notifications                       3415\n",
       "verify                              3334\n",
       "OTHER                               3181\n",
       "travel_plans_current                2965\n",
       "campaigns                           2938\n",
       "identity                            2845\n",
       "pending                             2844\n",
       "hosting_social_proof                2508\n",
       "ajax_photo_widget_form_iframe       2424\n",
       "edit_verification                   2287\n",
       "manage_listing                      2127\n",
       "profile_pic                         2126\n",
       "complete_status                     1790\n",
       "my                                  1704\n",
       "kba_update                          1619\n",
       "cancellation_policies               1592\n",
       "ajax_image_upload                   1560\n",
       "open_graph_setting                  1339\n",
       "apply_reservation                   1272\n",
       "faq                                 1192\n",
       "qt_reply_v2                         1147\n",
       "payment_instruments                 1113\n",
       "account                             1111\n",
       "kba                                 1012\n",
       "connect                             1000\n",
       "populate_help_dropdown               945\n",
       "set_user                             924\n",
       "faq_category                         903\n",
       "callback                             888\n",
       "phone_number_widget                  874\n",
       "this_hosting_reviews                 814\n",
       "new                                  811\n",
       "references                           809\n",
       "request_new_confirm_email            794\n",
       "jumio_token                          751\n",
       "populate_from_facebook               746\n",
       "available                            717\n",
       "faq_experiment_ids                   704\n",
       "languages_multiselect                662\n",
       "delete                               623\n",
       "reviews_new                          615\n",
       "login_modal                          584\n",
       "ajax_get_referrals_amt               556\n",
       "click                                555\n",
       "facebook_auto_login                  550\n",
       "at_checkpoint                        497\n",
       "uptodate                             462\n",
       "settings                             446\n",
       "jumio_redirect                       446\n",
       "domains                              437\n",
       "payment_methods                      414\n",
       "signup_login                         394\n",
       "signup_modal                         356\n",
       "payout_preferences                   336\n",
       "signature                            327\n",
       "complete                             320\n",
       "tos_confirm                          309\n",
       "decision_tree                        308\n",
       "ajax_statsd                          304\n",
       "12                                   282\n",
       "login                                275\n",
       "recent_reservations                  272\n",
       "status                               270\n",
       "tell_a_friend                        247\n",
       "phone_verification_modal             225\n",
       "transaction_history_paginated        221\n",
       "10                                   200\n",
       "qt_with                              194\n",
       "referrer_status                      189\n",
       "update_notifications                 176\n",
       "supported                            176\n",
       "contact_new                          175\n",
       "add_note                             161\n",
       "popular                              154\n",
       "create_multiple                      153\n",
       "remove_dashboard_alert               144\n",
       "other_hosting_reviews                142\n",
       "pending_tickets                      136\n",
       "listing                              136\n",
       "itinerary                            127\n",
       "authorize                            127\n",
       "glob                                 119\n",
       "ajax_payout_options_by_country       114\n",
       "transaction_history                  113\n",
       "pay                                  104\n",
       "ajax_payout_edit                     103\n",
       "Name: action, dtype: int64"
      ]
     },
     "execution_count": 201,
     "metadata": {},
     "output_type": "execute_result"
    }
   ],
   "source": [
    "sessions.action.value_counts()"
   ]
  },
  {
   "cell_type": "code",
   "execution_count": 202,
   "metadata": {},
   "outputs": [],
   "source": [
    "sessions.action_type = sessions.action_type.fillna('NAN')\n",
    "sessions.action_detail = sessions.action_detail.fillna('NAN')\n",
    "sessions.device_type = sessions.device_type.fillna('NAN')"
   ]
  },
  {
   "cell_type": "markdown",
   "metadata": {},
   "source": [
    "##### Action_type 用户行为类型"
   ]
  },
  {
   "cell_type": "code",
   "execution_count": 203,
   "metadata": {},
   "outputs": [
    {
     "data": {
      "text/plain": [
       "view                246673\n",
       "click               240942\n",
       "data                221185\n",
       "NAN                 142544\n",
       "-unknown-           102728\n",
       "submit               76042\n",
       "message_post         12350\n",
       "booking_request       2393\n",
       "partner_callback       920\n",
       "booking_response         1\n",
       "Name: action_type, dtype: int64"
      ]
     },
     "execution_count": 203,
     "metadata": {},
     "output_type": "execute_result"
    }
   ],
   "source": [
    "sessions.action_type.value_counts()"
   ]
  },
  {
   "cell_type": "markdown",
   "metadata": {},
   "source": [
    "有我们处理的空值，还有一个unknown的值，我们都转为空值NAN:"
   ]
  },
  {
   "cell_type": "code",
   "execution_count": 204,
   "metadata": {},
   "outputs": [],
   "source": [
    "sessions.action_type.replace('-unknown-', 'NAN', inplace=True)"
   ]
  },
  {
   "cell_type": "code",
   "execution_count": 205,
   "metadata": {},
   "outputs": [
    {
     "name": "stderr",
     "output_type": "stream",
     "text": [
      "C:\\ProgramData\\Anaconda3\\lib\\site-packages\\ipykernel_launcher.py:5: FutureWarning: `Series.plot()` should not be called with positional arguments, only keyword arguments. The order of positional arguments will change in the future. Use `Series.plot(kind='bar')` instead of `Series.plot('bar',)`.\n",
      "  \"\"\"\n"
     ]
    },
    {
     "data": {
      "text/plain": [
       "<matplotlib.axes._subplots.AxesSubplot at 0x2196e136fd0>"
      ]
     },
     "execution_count": 205,
     "metadata": {},
     "output_type": "execute_result"
    },
    {
     "data": {
      "image/png": "[encoded data removed]",
      "text/plain": [
       "<Figure size 720x432 with 1 Axes>"
      ]
     },
     "metadata": {},
     "output_type": "display_data"
    }
   ],
   "source": [
    "at = sessions.action_type.value_counts(dropna = False) / sessions.shape[0] * 100\n",
    "plt.figure(figsize = (10, 6))\n",
    "plt.xlabel('Action type')\n",
    "plt.ylabel('Percentage')\n",
    "at.plot('bar', fontsize = 13)"
   ]
  },
  {
   "cell_type": "markdown",
   "metadata": {},
   "source": [
    "##### Action_detail （用户行为细节）"
   ]
  },
  {
   "cell_type": "code",
   "execution_count": 206,
   "metadata": {},
   "outputs": [
    {
     "data": {
      "text/plain": [
       "view_search_results              186166\n",
       "NAN                              142544\n",
       "wishlist_content_update          110759\n",
       "-unknown-                        102728\n",
       "p3                               100847\n",
       "change_trip_characteristics       75020\n",
       "similar_listings                  56371\n",
       "update_listing                    32444\n",
       "user_profile                      26703\n",
       "header_userpic                    18285\n",
       "user_wishlists                    16429\n",
       "user_social_connections           15790\n",
       "contact_host                      12697\n",
       "message_post                      12350\n",
       "message_thread                    10392\n",
       "dashboard                         10045\n",
       "change_contact_host_dates          8794\n",
       "create_user                        8465\n",
       "edit_profile                       8067\n",
       "confirm_email_link                 7778\n",
       "login                              6202\n",
       "user_profile_content_update        5795\n",
       "p5                                 5047\n",
       "unavailable_dates                  4829\n",
       "create_phone_numbers               4653\n",
       "listing_reviews                    3791\n",
       "update_listing_description         3595\n",
       "your_listings                      3302\n",
       "your_trips                         3093\n",
       "update_user_profile                2903\n",
       "user_listings                      2486\n",
       "profile_verifications              2397\n",
       "manage_listing                     2242\n",
       "notifications                      2059\n",
       "pending                            1863\n",
       "cancellation_policies              1659\n",
       "reservations                       1648\n",
       "post_checkout_action               1500\n",
       "account_notification_settings      1488\n",
       "apply_coupon                       1340\n",
       "wishlist                           1248\n",
       "list_your_space                    1218\n",
       "send_message                       1198\n",
       "payment_instruments                1132\n",
       "user_reviews                       1077\n",
       "oauth_login                        1042\n",
       "create_listing                     1005\n",
       "update_user                         995\n",
       "signup                              979\n",
       "oauth_response                      920\n",
       "message_inbox                       893\n",
       "profile_references                  856\n",
       "request_new_confirm_email           843\n",
       "listing_reviews_page                841\n",
       "trip_availability                   754\n",
       "login_modal                         611\n",
       "at_checkpoint                       530\n",
       "p1                                  487\n",
       "login_page                          473\n",
       "signup_login_page                   418\n",
       "signup_modal                        384\n",
       "account_payout_preferences          362\n",
       "user_tax_forms                      361\n",
       "book_it                             287\n",
       "delete_phone_numbers                248\n",
       "lookup_message_thread               208\n",
       "wishlist_note                       169\n",
       "popular_wishlists                   166\n",
       "guest_itinerary                     129\n",
       "account_transaction_history         117\n",
       "email_wishlist_button                83\n",
       "email_wishlist                       79\n",
       "account_privacy_settings             79\n",
       "change_or_alter                      76\n",
       "instant_book                         71\n",
       "terms_and_privacy                    62\n",
       "friends_wishlists                    62\n",
       "toggle_archived_thread               61\n",
       "guest_cancellation                   57\n",
       "set_password                         56\n",
       "host_home                            52\n",
       "translations                         52\n",
       "request_to_book                      48\n",
       "host_guarantee                       42\n",
       "forgot_password                      42\n",
       "your_reservations                    41\n",
       "guest_receipt                        35\n",
       "airbnb_picks_wishlists               33\n",
       "alteration_field                     27\n",
       "previous_trips                       24\n",
       "toggle_starred_thread                20\n",
       "admin_templates                      19\n",
       "remove_dashboard_alert               17\n",
       "user_friend_recommendations          17\n",
       "set_password_page                    15\n",
       "confirm_email                        14\n",
       "change_password                      14\n",
       "calculate_worth                      12\n",
       "place_worth                          12\n",
       "translate_listing_reviews            11\n",
       "delete_listing                        8\n",
       "alteration_request                    5\n",
       "homepage                              4\n",
       "respond_to_alteration_request         4\n",
       "create_alteration_request             3\n",
       "complete_booking                      2\n",
       "booking                               1\n",
       "delete_listing_description            1\n",
       "Name: action_detail, dtype: int64"
      ]
     },
     "execution_count": 206,
     "metadata": {},
     "output_type": "execute_result"
    }
   ],
   "source": [
    "sessions.action_detail.value_counts()"
   ]
  },
  {
   "cell_type": "markdown",
   "metadata": {},
   "source": [
    "同样地，有我们处理的空值，还有一个unknown的值，我们都转为空值NAN:"
   ]
  },
  {
   "cell_type": "code",
   "execution_count": 207,
   "metadata": {},
   "outputs": [],
   "source": [
    "sessions.action_detail.replace('-unknown-', 'NAN', inplace=True)"
   ]
  },
  {
   "cell_type": "code",
   "execution_count": 208,
   "metadata": {},
   "outputs": [
    {
     "data": {
      "text/plain": [
       "107"
      ]
     },
     "execution_count": 208,
     "metadata": {},
     "output_type": "execute_result"
    }
   ],
   "source": [
    "len(sessions.action_detail.value_counts())"
   ]
  },
  {
   "cell_type": "code",
   "execution_count": 209,
   "metadata": {},
   "outputs": [
    {
     "data": {
      "text/plain": [
       "count       107.000000\n",
       "mean       9773.626168\n",
       "std       33577.188929\n",
       "min           1.000000\n",
       "25%          52.000000\n",
       "50%         754.000000\n",
       "75%        3197.500000\n",
       "max      245272.000000\n",
       "Name: action_detail, dtype: float64"
      ]
     },
     "execution_count": 209,
     "metadata": {},
     "output_type": "execute_result"
    }
   ],
   "source": [
    "sessions.action_detail.value_counts().describe()"
   ]
  },
  {
   "cell_type": "markdown",
   "metadata": {},
   "source": [
    "因为网站上有众多按钮，如果细节太多可能也会导致模型过拟合，所以我们根据25分位数，50分位数，75分位数把它们整合一下："
   ]
  },
  {
   "cell_type": "code",
   "execution_count": 210,
   "metadata": {},
   "outputs": [],
   "source": [
    "detail_25 = 52\n",
    "detail_50 = 754\n",
    "detail_75 = 3197\n",
    "act_dea = dict(zip(*np.unique(sessions.action_detail, return_counts=True)))\n",
    "sessions.action_detail = sessions.action_detail.apply(lambda x: '25_detail' if act_dea[x] < detail_25  else ('50_detail' if act_dea[x] < detail_50 else ('75_detail' if act_dea[x] < detail_75 else x)))"
   ]
  },
  {
   "cell_type": "code",
   "execution_count": 211,
   "metadata": {},
   "outputs": [
    {
     "data": {
      "text/plain": [
       "NAN                            245272\n",
       "view_search_results            186166\n",
       "wishlist_content_update        110759\n",
       "p3                             100847\n",
       "change_trip_characteristics     75020\n",
       "similar_listings                56371\n",
       "75_detail                       39679\n",
       "update_listing                  32444\n",
       "user_profile                    26703\n",
       "header_userpic                  18285\n",
       "user_wishlists                  16429\n",
       "user_social_connections         15790\n",
       "contact_host                    12697\n",
       "message_post                    12350\n",
       "message_thread                  10392\n",
       "dashboard                       10045\n",
       "change_contact_host_dates        8794\n",
       "create_user                      8465\n",
       "edit_profile                     8067\n",
       "confirm_email_link               7778\n",
       "login                            6202\n",
       "user_profile_content_update      5795\n",
       "50_detail                        5740\n",
       "p5                               5047\n",
       "unavailable_dates                4829\n",
       "create_phone_numbers             4653\n",
       "listing_reviews                  3791\n",
       "update_listing_description       3595\n",
       "your_listings                    3302\n",
       "25_detail                         471\n",
       "Name: action_detail, dtype: int64"
      ]
     },
     "execution_count": 211,
     "metadata": {},
     "output_type": "execute_result"
    }
   ],
   "source": [
    "sessions.action_detail.value_counts()"
   ]
  },
  {
   "cell_type": "markdown",
   "metadata": {},
   "source": [
    "##### Device_type （设备类型）"
   ]
  },
  {
   "cell_type": "code",
   "execution_count": 212,
   "metadata": {},
   "outputs": [
    {
     "data": {
      "text/plain": [
       "Mac Desktop                         477529\n",
       "Windows Desktop                     325390\n",
       "Android App Unknown Phone/Tablet     97614\n",
       "iPad Tablet                          71873\n",
       "iPhone                               43349\n",
       "-unknown-                            16238\n",
       "Tablet                                5322\n",
       "Linux Desktop                         3467\n",
       "Chromebook                            3014\n",
       "Android Phone                         1606\n",
       "iPodtouch                              289\n",
       "Blackberry                              53\n",
       "Windows Phone                           29\n",
       "Opera Phone                              5\n",
       "Name: device_type, dtype: int64"
      ]
     },
     "execution_count": 212,
     "metadata": {},
     "output_type": "execute_result"
    }
   ],
   "source": [
    "sessions.device_type.value_counts()"
   ]
  },
  {
   "cell_type": "code",
   "execution_count": 213,
   "metadata": {},
   "outputs": [],
   "source": [
    "sessions.device_type.replace('-unknown-', 'NAN', inplace=True)"
   ]
  },
  {
   "cell_type": "code",
   "execution_count": 214,
   "metadata": {},
   "outputs": [
    {
     "name": "stderr",
     "output_type": "stream",
     "text": [
      "C:\\ProgramData\\Anaconda3\\lib\\site-packages\\ipykernel_launcher.py:5: FutureWarning: `Series.plot()` should not be called with positional arguments, only keyword arguments. The order of positional arguments will change in the future. Use `Series.plot(kind='bar')` instead of `Series.plot('bar',)`.\n",
      "  \"\"\"\n"
     ]
    },
    {
     "data": {
      "text/plain": [
       "<matplotlib.axes._subplots.AxesSubplot at 0x2196e137080>"
      ]
     },
     "execution_count": 214,
     "metadata": {},
     "output_type": "execute_result"
    },
    {
     "data": {
      "image/png": "[encoded data removed]",
      "text/plain": [
       "<Figure size 720x432 with 1 Axes>"
      ]
     },
     "metadata": {},
     "output_type": "display_data"
    }
   ],
   "source": [
    "at = sessions.device_type.value_counts(dropna = False) / sessions.shape[0] * 100\n",
    "plt.figure(figsize = (10, 6))\n",
    "plt.xlabel('Device type')\n",
    "plt.ylabel('Percentage')\n",
    "at.plot('bar', fontsize = 13)"
   ]
  },
  {
   "cell_type": "markdown",
   "metadata": {},
   "source": [
    "##### Secs_elapsed （停留时长）"
   ]
  },
  {
   "cell_type": "code",
   "execution_count": 215,
   "metadata": {},
   "outputs": [
    {
     "data": {
      "text/plain": [
       "0.0         7219\n",
       "4.0         1914\n",
       "3.0         1909\n",
       "2.0         1839\n",
       "1.0         1839\n",
       "            ... \n",
       "71619.0        1\n",
       "46708.0        1\n",
       "286492.0       1\n",
       "286501.0       1\n",
       "260993.0       1\n",
       "Name: secs_elapsed, Length: 114308, dtype: int64"
      ]
     },
     "execution_count": 215,
     "metadata": {},
     "output_type": "execute_result"
    }
   ],
   "source": [
    "sessions.secs_elapsed.value_counts()"
   ]
  },
  {
   "cell_type": "code",
   "execution_count": 216,
   "metadata": {},
   "outputs": [
    {
     "data": {
      "text/plain": [
       "11026"
      ]
     },
     "execution_count": 216,
     "metadata": {},
     "output_type": "execute_result"
    }
   ],
   "source": [
    "sessions.secs_elapsed.isnull().sum()"
   ]
  },
  {
   "cell_type": "code",
   "execution_count": 217,
   "metadata": {},
   "outputs": [
    {
     "data": {
      "text/plain": [
       "count    114308.000000\n",
       "mean          9.052315\n",
       "std          58.180683\n",
       "min           1.000000\n",
       "25%           1.000000\n",
       "50%           1.000000\n",
       "75%           4.000000\n",
       "max        7219.000000\n",
       "Name: secs_elapsed, dtype: float64"
      ]
     },
     "execution_count": 217,
     "metadata": {},
     "output_type": "execute_result"
    }
   ],
   "source": [
    "sessions.secs_elapsed.value_counts().describe()"
   ]
  },
  {
   "cell_type": "code",
   "execution_count": 126,
   "metadata": {},
   "outputs": [],
   "source": [
    "sessions.secs_elapsed = sessions.secs_elapsed.fillna(0)"
   ]
  },
  {
   "cell_type": "code",
   "execution_count": 85,
   "metadata": {},
   "outputs": [
    {
     "data": {
      "text/html": [
       "<div>\n",
       "<style scoped>\n",
       "    .dataframe tbody tr th:only-of-type {\n",
       "        vertical-align: middle;\n",
       "    }\n",
       "\n",
       "    .dataframe tbody tr th {\n",
       "        vertical-align: top;\n",
       "    }\n",
       "\n",
       "    .dataframe thead th {\n",
       "        text-align: right;\n",
       "    }\n",
       "</style>\n",
       "<table border=\"1\" class=\"dataframe\">\n",
       "  <thead>\n",
       "    <tr style=\"text-align: right;\">\n",
       "      <th></th>\n",
       "      <th>secs_elapsed</th>\n",
       "    </tr>\n",
       "  </thead>\n",
       "  <tbody>\n",
       "    <tr>\n",
       "      <th>count</th>\n",
       "      <td>1.558800e+04</td>\n",
       "    </tr>\n",
       "    <tr>\n",
       "      <th>mean</th>\n",
       "      <td>1.437976e+06</td>\n",
       "    </tr>\n",
       "    <tr>\n",
       "      <th>std</th>\n",
       "      <td>1.832534e+06</td>\n",
       "    </tr>\n",
       "    <tr>\n",
       "      <th>min</th>\n",
       "      <td>0.000000e+00</td>\n",
       "    </tr>\n",
       "    <tr>\n",
       "      <th>25%</th>\n",
       "      <td>2.233832e+05</td>\n",
       "    </tr>\n",
       "    <tr>\n",
       "      <th>50%</th>\n",
       "      <td>8.309845e+05</td>\n",
       "    </tr>\n",
       "    <tr>\n",
       "      <th>75%</th>\n",
       "      <td>1.960356e+06</td>\n",
       "    </tr>\n",
       "    <tr>\n",
       "      <th>max</th>\n",
       "      <td>3.139369e+07</td>\n",
       "    </tr>\n",
       "  </tbody>\n",
       "</table>\n",
       "</div>"
      ],
      "text/plain": [
       "       secs_elapsed\n",
       "count  1.558800e+04\n",
       "mean   1.437976e+06\n",
       "std    1.832534e+06\n",
       "min    0.000000e+00\n",
       "25%    2.233832e+05\n",
       "50%    8.309845e+05\n",
       "75%    1.960356e+06\n",
       "max    3.139369e+07"
      ]
     },
     "execution_count": 85,
     "metadata": {},
     "output_type": "execute_result"
    }
   ],
   "source": [
    "secs = sessions.groupby(['user_id']).secs_elapsed.sum().reset_index()\n",
    "secs.columns = ['user_id', 'secs_elapsed']\n",
    "secs.describe()"
   ]
  },
  {
   "cell_type": "code",
   "execution_count": 86,
   "metadata": {},
   "outputs": [
    {
     "data": {
      "text/plain": [
       "<matplotlib.axes._subplots.AxesSubplot at 0x2195f8a5630>"
      ]
     },
     "execution_count": 86,
     "metadata": {},
     "output_type": "execute_result"
    },
    {
     "data": {
      "image/png": "[encoded data removed]",
      "text/plain": [
       "<Figure size 432x288 with 1 Axes>"
      ]
     },
     "metadata": {},
     "output_type": "display_data"
    }
   ],
   "source": [
    "sns.boxplot(x = secs.secs_elapsed)"
   ]
  },
  {
   "cell_type": "code",
   "execution_count": 90,
   "metadata": {},
   "outputs": [
    {
     "data": {
      "text/plain": [
       "id                              0\n",
       "date_account_created            0\n",
       "timestamp_first_active          0\n",
       "date_first_booking         124543\n",
       "gender                      95688\n",
       "age                         90456\n",
       "signup_method                   0\n",
       "signup_flow                     0\n",
       "language                        0\n",
       "affiliate_channel               0\n",
       "affiliate_provider              0\n",
       "first_affiliate_tracked      6065\n",
       "signup_app                      0\n",
       "first_device_type               0\n",
       "first_browser                   0\n",
       "country_destination             0\n",
       "date_first_active               0\n",
       "dtype: int64"
      ]
     },
     "execution_count": 90,
     "metadata": {},
     "output_type": "execute_result"
    }
   ],
   "source": [
    "train.isnull().sum()"
   ]
  },
  {
   "cell_type": "markdown",
   "metadata": {},
   "source": [
    "## 保存下来："
   ]
  },
  {
   "cell_type": "code",
   "execution_count": 130,
   "metadata": {},
   "outputs": [],
   "source": [
    "\n",
    "sessions.to_csv('sessions_3_1.csv')"
   ]
  }
 ],
 "metadata": {
  "kernelspec": {
   "display_name": "Python 3",
   "language": "python",
   "name": "python3"
  },
  "language_info": {
   "codemirror_mode": {
    "name": "ipython",
    "version": 3
   },
   "file_extension": ".py",
   "mimetype": "text/x-python",
   "name": "python",
   "nbconvert_exporter": "python",
   "pygments_lexer": "ipython3",
   "version": "3.7.3"
  }
 },
 "nbformat": 4,
 "nbformat_minor": 2
}
